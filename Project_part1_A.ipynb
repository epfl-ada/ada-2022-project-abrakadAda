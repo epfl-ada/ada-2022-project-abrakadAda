{
 "cells": [
  {
   "cell_type": "code",
   "execution_count": 262,
   "id": "47fc4f2e",
   "metadata": {},
   "outputs": [],
   "source": [
    "import pandas as pd\n",
    "import numpy as np\n",
    "from tqdm import trange, tqdm\n",
    "import scipy as sc\n",
    "import matplotlib.pyplot as plt\n",
    "import math\n",
    "from sklearn.linear_model import LinearRegression\n",
    "from matplotlib import cm\n",
    "from scipy.stats import gaussian_kde\n"
   ]
  },
  {
   "cell_type": "markdown",
   "id": "2305d8a1",
   "metadata": {},
   "source": [
    "# Behavioral Analysis"
   ]
  },
  {
   "cell_type": "markdown",
   "id": "f608c0cc",
   "metadata": {},
   "source": [
    "### Import data in pandas dataframe\n",
    "Importing of data of finished and unfinished path"
   ]
  },
  {
   "cell_type": "code",
   "execution_count": 263,
   "id": "5bf330fc",
   "metadata": {},
   "outputs": [
    {
     "data": {
      "text/html": [
       "<div>\n",
       "<style scoped>\n",
       "    .dataframe tbody tr th:only-of-type {\n",
       "        vertical-align: middle;\n",
       "    }\n",
       "\n",
       "    .dataframe tbody tr th {\n",
       "        vertical-align: top;\n",
       "    }\n",
       "\n",
       "    .dataframe thead th {\n",
       "        text-align: right;\n",
       "    }\n",
       "</style>\n",
       "<table border=\"1\" class=\"dataframe\">\n",
       "  <thead>\n",
       "    <tr style=\"text-align: right;\">\n",
       "      <th></th>\n",
       "      <th>hashedIpAddress</th>\n",
       "      <th>timestamp</th>\n",
       "      <th>durationInSec</th>\n",
       "      <th>path</th>\n",
       "      <th>rating</th>\n",
       "    </tr>\n",
       "  </thead>\n",
       "  <tbody>\n",
       "    <tr>\n",
       "      <th>0</th>\n",
       "      <td>6a3701d319fc3754</td>\n",
       "      <td>1297740409</td>\n",
       "      <td>166</td>\n",
       "      <td>14th_century;15th_century;16th_century;Pacific...</td>\n",
       "      <td>NaN</td>\n",
       "    </tr>\n",
       "    <tr>\n",
       "      <th>1</th>\n",
       "      <td>3824310e536af032</td>\n",
       "      <td>1344753412</td>\n",
       "      <td>88</td>\n",
       "      <td>14th_century;Europe;Africa;Atlantic_slave_trad...</td>\n",
       "      <td>3.0</td>\n",
       "    </tr>\n",
       "    <tr>\n",
       "      <th>2</th>\n",
       "      <td>415612e93584d30e</td>\n",
       "      <td>1349298640</td>\n",
       "      <td>138</td>\n",
       "      <td>14th_century;Niger;Nigeria;British_Empire;Slav...</td>\n",
       "      <td>NaN</td>\n",
       "    </tr>\n",
       "    <tr>\n",
       "      <th>3</th>\n",
       "      <td>64dd5cd342e3780c</td>\n",
       "      <td>1265613925</td>\n",
       "      <td>37</td>\n",
       "      <td>14th_century;Renaissance;Ancient_Greece;Greece</td>\n",
       "      <td>NaN</td>\n",
       "    </tr>\n",
       "    <tr>\n",
       "      <th>4</th>\n",
       "      <td>015245d773376aab</td>\n",
       "      <td>1366730828</td>\n",
       "      <td>175</td>\n",
       "      <td>14th_century;Italy;Roman_Catholic_Church;HIV;R...</td>\n",
       "      <td>3.0</td>\n",
       "    </tr>\n",
       "  </tbody>\n",
       "</table>\n",
       "</div>"
      ],
      "text/plain": [
       "    hashedIpAddress   timestamp  durationInSec  \\\n",
       "0  6a3701d319fc3754  1297740409            166   \n",
       "1  3824310e536af032  1344753412             88   \n",
       "2  415612e93584d30e  1349298640            138   \n",
       "3  64dd5cd342e3780c  1265613925             37   \n",
       "4  015245d773376aab  1366730828            175   \n",
       "\n",
       "                                                path  rating  \n",
       "0  14th_century;15th_century;16th_century;Pacific...     NaN  \n",
       "1  14th_century;Europe;Africa;Atlantic_slave_trad...     3.0  \n",
       "2  14th_century;Niger;Nigeria;British_Empire;Slav...     NaN  \n",
       "3     14th_century;Renaissance;Ancient_Greece;Greece     NaN  \n",
       "4  14th_century;Italy;Roman_Catholic_Church;HIV;R...     3.0  "
      ]
     },
     "execution_count": 263,
     "metadata": {},
     "output_type": "execute_result"
    }
   ],
   "source": [
    "df_finished_paths = pd.read_csv('Dataset\\wikispeedia_paths-and-graph.tar\\wikispeedia_paths-and-graph\\wikispeedia_paths-and-graph\\paths_finished.tsv', \n",
    "                                  sep='\\t', \n",
    "                                  skiprows=16,\n",
    "                                  names = [\"hashedIpAddress\",\"timestamp\",\"durationInSec\",\"path\",\"rating\"],)\n",
    "df_finished_paths.head()"
   ]
  },
  {
   "cell_type": "code",
   "execution_count": 264,
   "id": "5f066629",
   "metadata": {},
   "outputs": [
    {
     "data": {
      "text/html": [
       "<div>\n",
       "<style scoped>\n",
       "    .dataframe tbody tr th:only-of-type {\n",
       "        vertical-align: middle;\n",
       "    }\n",
       "\n",
       "    .dataframe tbody tr th {\n",
       "        vertical-align: top;\n",
       "    }\n",
       "\n",
       "    .dataframe thead th {\n",
       "        text-align: right;\n",
       "    }\n",
       "</style>\n",
       "<table border=\"1\" class=\"dataframe\">\n",
       "  <thead>\n",
       "    <tr style=\"text-align: right;\">\n",
       "      <th></th>\n",
       "      <th>hashedIpAddress</th>\n",
       "      <th>timestamp</th>\n",
       "      <th>durationInSec</th>\n",
       "      <th>path</th>\n",
       "      <th>target</th>\n",
       "      <th>type</th>\n",
       "    </tr>\n",
       "  </thead>\n",
       "  <tbody>\n",
       "    <tr>\n",
       "      <th>0</th>\n",
       "      <td>2426091a53125110</td>\n",
       "      <td>1297054935</td>\n",
       "      <td>1804</td>\n",
       "      <td>Obi-Wan_Kenobi</td>\n",
       "      <td>Microsoft</td>\n",
       "      <td>timeout</td>\n",
       "    </tr>\n",
       "    <tr>\n",
       "      <th>1</th>\n",
       "      <td>26141fd878806294</td>\n",
       "      <td>1297055651</td>\n",
       "      <td>1805</td>\n",
       "      <td>Julius_Caesar</td>\n",
       "      <td>Caracas</td>\n",
       "      <td>timeout</td>\n",
       "    </tr>\n",
       "    <tr>\n",
       "      <th>2</th>\n",
       "      <td>2b015fb8181c48f2</td>\n",
       "      <td>1297090819</td>\n",
       "      <td>1818</td>\n",
       "      <td>Malawi;Democracy;Alexander_the_Great</td>\n",
       "      <td>First_Crusade</td>\n",
       "      <td>timeout</td>\n",
       "    </tr>\n",
       "    <tr>\n",
       "      <th>3</th>\n",
       "      <td>53a53bc244e08a6a</td>\n",
       "      <td>1297094761</td>\n",
       "      <td>49</td>\n",
       "      <td>Paraguay</td>\n",
       "      <td>Mount_St._Helens</td>\n",
       "      <td>restart</td>\n",
       "    </tr>\n",
       "    <tr>\n",
       "      <th>4</th>\n",
       "      <td>53a53bc244e08a6a</td>\n",
       "      <td>1297099105</td>\n",
       "      <td>1808</td>\n",
       "      <td>Paraguay;Bolivia</td>\n",
       "      <td>Mount_St._Helens</td>\n",
       "      <td>timeout</td>\n",
       "    </tr>\n",
       "  </tbody>\n",
       "</table>\n",
       "</div>"
      ],
      "text/plain": [
       "    hashedIpAddress   timestamp  durationInSec  \\\n",
       "0  2426091a53125110  1297054935           1804   \n",
       "1  26141fd878806294  1297055651           1805   \n",
       "2  2b015fb8181c48f2  1297090819           1818   \n",
       "3  53a53bc244e08a6a  1297094761             49   \n",
       "4  53a53bc244e08a6a  1297099105           1808   \n",
       "\n",
       "                                   path            target     type  \n",
       "0                        Obi-Wan_Kenobi         Microsoft  timeout  \n",
       "1                         Julius_Caesar           Caracas  timeout  \n",
       "2  Malawi;Democracy;Alexander_the_Great     First_Crusade  timeout  \n",
       "3                              Paraguay  Mount_St._Helens  restart  \n",
       "4                      Paraguay;Bolivia  Mount_St._Helens  timeout  "
      ]
     },
     "execution_count": 264,
     "metadata": {},
     "output_type": "execute_result"
    }
   ],
   "source": [
    "df_unfinished_paths = pd.read_csv('Dataset\\wikispeedia_paths-and-graph.tar\\wikispeedia_paths-and-graph\\wikispeedia_paths-and-graph\\paths_unfinished.tsv', \n",
    "                                  sep='\\t', \n",
    "                                  skiprows=17,\n",
    "                                  names = [\"hashedIpAddress\",\"timestamp\",\"durationInSec\",\"path\",\"target\",\"type\"],)\n",
    "df_unfinished_paths.head()"
   ]
  },
  {
   "cell_type": "code",
   "execution_count": 265,
   "id": "062d39fa",
   "metadata": {},
   "outputs": [
    {
     "name": "stdout",
     "output_type": "stream",
     "text": [
      "(51318, 5)\n",
      "(24875, 6)\n"
     ]
    }
   ],
   "source": [
    "print(np.shape(df_finished_paths))\n",
    "print(np.shape(df_unfinished_paths))"
   ]
  },
  {
   "cell_type": "markdown",
   "id": "bf673242",
   "metadata": {},
   "source": [
    "### Wrangling Data:\n",
    "First, for the number of game played depending on the number of wins and losses, the number of wins and loss per players should be counted.\n",
    "Players are differentiated using their Ip adress.\n",
    "\n",
    "Dataframe \"df_nbr_games\" summarises the number of game winned, lost and played per player. "
   ]
  },
  {
   "cell_type": "code",
   "execution_count": 266,
   "id": "8fc7e0f5",
   "metadata": {},
   "outputs": [
    {
     "data": {
      "text/html": [
       "<div>\n",
       "<style scoped>\n",
       "    .dataframe tbody tr th:only-of-type {\n",
       "        vertical-align: middle;\n",
       "    }\n",
       "\n",
       "    .dataframe tbody tr th {\n",
       "        vertical-align: top;\n",
       "    }\n",
       "\n",
       "    .dataframe thead th {\n",
       "        text-align: right;\n",
       "    }\n",
       "</style>\n",
       "<table border=\"1\" class=\"dataframe\">\n",
       "  <thead>\n",
       "    <tr style=\"text-align: right;\">\n",
       "      <th></th>\n",
       "      <th>hashedIpAddress</th>\n",
       "      <th>timestamp</th>\n",
       "      <th>durationInSec</th>\n",
       "      <th>path</th>\n",
       "      <th>rating</th>\n",
       "      <th>nbr_win</th>\n",
       "    </tr>\n",
       "  </thead>\n",
       "  <tbody>\n",
       "    <tr>\n",
       "      <th>0</th>\n",
       "      <td>6a3701d319fc3754</td>\n",
       "      <td>1297740409</td>\n",
       "      <td>166</td>\n",
       "      <td>14th_century;15th_century;16th_century;Pacific...</td>\n",
       "      <td>NaN</td>\n",
       "      <td>4.0</td>\n",
       "    </tr>\n",
       "    <tr>\n",
       "      <th>1</th>\n",
       "      <td>3824310e536af032</td>\n",
       "      <td>1344753412</td>\n",
       "      <td>88</td>\n",
       "      <td>14th_century;Europe;Africa;Atlantic_slave_trad...</td>\n",
       "      <td>3.0</td>\n",
       "      <td>13.0</td>\n",
       "    </tr>\n",
       "    <tr>\n",
       "      <th>2</th>\n",
       "      <td>415612e93584d30e</td>\n",
       "      <td>1349298640</td>\n",
       "      <td>138</td>\n",
       "      <td>14th_century;Niger;Nigeria;British_Empire;Slav...</td>\n",
       "      <td>NaN</td>\n",
       "      <td>43.0</td>\n",
       "    </tr>\n",
       "    <tr>\n",
       "      <th>3</th>\n",
       "      <td>64dd5cd342e3780c</td>\n",
       "      <td>1265613925</td>\n",
       "      <td>37</td>\n",
       "      <td>14th_century;Renaissance;Ancient_Greece;Greece</td>\n",
       "      <td>NaN</td>\n",
       "      <td>3.0</td>\n",
       "    </tr>\n",
       "    <tr>\n",
       "      <th>4</th>\n",
       "      <td>015245d773376aab</td>\n",
       "      <td>1366730828</td>\n",
       "      <td>175</td>\n",
       "      <td>14th_century;Italy;Roman_Catholic_Church;HIV;R...</td>\n",
       "      <td>3.0</td>\n",
       "      <td>8.0</td>\n",
       "    </tr>\n",
       "  </tbody>\n",
       "</table>\n",
       "</div>"
      ],
      "text/plain": [
       "    hashedIpAddress   timestamp  durationInSec  \\\n",
       "0  6a3701d319fc3754  1297740409            166   \n",
       "1  3824310e536af032  1344753412             88   \n",
       "2  415612e93584d30e  1349298640            138   \n",
       "3  64dd5cd342e3780c  1265613925             37   \n",
       "4  015245d773376aab  1366730828            175   \n",
       "\n",
       "                                                path  rating  nbr_win  \n",
       "0  14th_century;15th_century;16th_century;Pacific...     NaN      4.0  \n",
       "1  14th_century;Europe;Africa;Atlantic_slave_trad...     3.0     13.0  \n",
       "2  14th_century;Niger;Nigeria;British_Empire;Slav...     NaN     43.0  \n",
       "3     14th_century;Renaissance;Ancient_Greece;Greece     NaN      3.0  \n",
       "4  14th_century;Italy;Roman_Catholic_Church;HIV;R...     3.0      8.0  "
      ]
     },
     "execution_count": 266,
     "metadata": {},
     "output_type": "execute_result"
    }
   ],
   "source": [
    "df_finished_paths['nbr_win'] = df_finished_paths.groupby('hashedIpAddress')['hashedIpAddress'].transform('count')\n",
    "df_finished_paths.head(5)"
   ]
  },
  {
   "cell_type": "code",
   "execution_count": 267,
   "id": "0673c54f",
   "metadata": {},
   "outputs": [
    {
     "data": {
      "text/html": [
       "<div>\n",
       "<style scoped>\n",
       "    .dataframe tbody tr th:only-of-type {\n",
       "        vertical-align: middle;\n",
       "    }\n",
       "\n",
       "    .dataframe tbody tr th {\n",
       "        vertical-align: top;\n",
       "    }\n",
       "\n",
       "    .dataframe thead th {\n",
       "        text-align: right;\n",
       "    }\n",
       "</style>\n",
       "<table border=\"1\" class=\"dataframe\">\n",
       "  <thead>\n",
       "    <tr style=\"text-align: right;\">\n",
       "      <th></th>\n",
       "      <th>hashedIpAddress</th>\n",
       "      <th>timestamp</th>\n",
       "      <th>durationInSec</th>\n",
       "      <th>path</th>\n",
       "      <th>target</th>\n",
       "      <th>type</th>\n",
       "      <th>nbr_loss</th>\n",
       "    </tr>\n",
       "  </thead>\n",
       "  <tbody>\n",
       "    <tr>\n",
       "      <th>0</th>\n",
       "      <td>2426091a53125110</td>\n",
       "      <td>1297054935</td>\n",
       "      <td>1804</td>\n",
       "      <td>Obi-Wan_Kenobi</td>\n",
       "      <td>Microsoft</td>\n",
       "      <td>timeout</td>\n",
       "      <td>1</td>\n",
       "    </tr>\n",
       "    <tr>\n",
       "      <th>1</th>\n",
       "      <td>26141fd878806294</td>\n",
       "      <td>1297055651</td>\n",
       "      <td>1805</td>\n",
       "      <td>Julius_Caesar</td>\n",
       "      <td>Caracas</td>\n",
       "      <td>timeout</td>\n",
       "      <td>1</td>\n",
       "    </tr>\n",
       "    <tr>\n",
       "      <th>2</th>\n",
       "      <td>2b015fb8181c48f2</td>\n",
       "      <td>1297090819</td>\n",
       "      <td>1818</td>\n",
       "      <td>Malawi;Democracy;Alexander_the_Great</td>\n",
       "      <td>First_Crusade</td>\n",
       "      <td>timeout</td>\n",
       "      <td>1</td>\n",
       "    </tr>\n",
       "    <tr>\n",
       "      <th>3</th>\n",
       "      <td>53a53bc244e08a6a</td>\n",
       "      <td>1297094761</td>\n",
       "      <td>49</td>\n",
       "      <td>Paraguay</td>\n",
       "      <td>Mount_St._Helens</td>\n",
       "      <td>restart</td>\n",
       "      <td>2</td>\n",
       "    </tr>\n",
       "    <tr>\n",
       "      <th>4</th>\n",
       "      <td>53a53bc244e08a6a</td>\n",
       "      <td>1297099105</td>\n",
       "      <td>1808</td>\n",
       "      <td>Paraguay;Bolivia</td>\n",
       "      <td>Mount_St._Helens</td>\n",
       "      <td>timeout</td>\n",
       "      <td>2</td>\n",
       "    </tr>\n",
       "  </tbody>\n",
       "</table>\n",
       "</div>"
      ],
      "text/plain": [
       "    hashedIpAddress   timestamp  durationInSec  \\\n",
       "0  2426091a53125110  1297054935           1804   \n",
       "1  26141fd878806294  1297055651           1805   \n",
       "2  2b015fb8181c48f2  1297090819           1818   \n",
       "3  53a53bc244e08a6a  1297094761             49   \n",
       "4  53a53bc244e08a6a  1297099105           1808   \n",
       "\n",
       "                                   path            target     type  nbr_loss  \n",
       "0                        Obi-Wan_Kenobi         Microsoft  timeout         1  \n",
       "1                         Julius_Caesar           Caracas  timeout         1  \n",
       "2  Malawi;Democracy;Alexander_the_Great     First_Crusade  timeout         1  \n",
       "3                              Paraguay  Mount_St._Helens  restart         2  \n",
       "4                      Paraguay;Bolivia  Mount_St._Helens  timeout         2  "
      ]
     },
     "execution_count": 267,
     "metadata": {},
     "output_type": "execute_result"
    }
   ],
   "source": [
    "df_unfinished_paths['nbr_loss'] = df_unfinished_paths.groupby('hashedIpAddress')['hashedIpAddress'].transform('count')\n",
    ">>> df_unfinished_paths.head()"
   ]
  },
  {
   "cell_type": "code",
   "execution_count": 268,
   "id": "7d834b34",
   "metadata": {},
   "outputs": [
    {
     "data": {
      "text/html": [
       "<div>\n",
       "<style scoped>\n",
       "    .dataframe tbody tr th:only-of-type {\n",
       "        vertical-align: middle;\n",
       "    }\n",
       "\n",
       "    .dataframe tbody tr th {\n",
       "        vertical-align: top;\n",
       "    }\n",
       "\n",
       "    .dataframe thead th {\n",
       "        text-align: right;\n",
       "    }\n",
       "</style>\n",
       "<table border=\"1\" class=\"dataframe\">\n",
       "  <thead>\n",
       "    <tr style=\"text-align: right;\">\n",
       "      <th></th>\n",
       "      <th>hashedIpAddress</th>\n",
       "      <th>nbr_win</th>\n",
       "      <th>nbr_loss</th>\n",
       "      <th>nbr_play</th>\n",
       "    </tr>\n",
       "  </thead>\n",
       "  <tbody>\n",
       "    <tr>\n",
       "      <th>0</th>\n",
       "      <td>6a3701d319fc3754</td>\n",
       "      <td>4.0</td>\n",
       "      <td>4.0</td>\n",
       "      <td>8.0</td>\n",
       "    </tr>\n",
       "    <tr>\n",
       "      <th>1</th>\n",
       "      <td>3824310e536af032</td>\n",
       "      <td>13.0</td>\n",
       "      <td>8.0</td>\n",
       "      <td>21.0</td>\n",
       "    </tr>\n",
       "    <tr>\n",
       "      <th>2</th>\n",
       "      <td>415612e93584d30e</td>\n",
       "      <td>43.0</td>\n",
       "      <td>37.0</td>\n",
       "      <td>80.0</td>\n",
       "    </tr>\n",
       "    <tr>\n",
       "      <th>3</th>\n",
       "      <td>64dd5cd342e3780c</td>\n",
       "      <td>3.0</td>\n",
       "      <td>0.0</td>\n",
       "      <td>3.0</td>\n",
       "    </tr>\n",
       "    <tr>\n",
       "      <th>4</th>\n",
       "      <td>015245d773376aab</td>\n",
       "      <td>8.0</td>\n",
       "      <td>0.0</td>\n",
       "      <td>8.0</td>\n",
       "    </tr>\n",
       "  </tbody>\n",
       "</table>\n",
       "</div>"
      ],
      "text/plain": [
       "    hashedIpAddress  nbr_win  nbr_loss  nbr_play\n",
       "0  6a3701d319fc3754      4.0       4.0       8.0\n",
       "1  3824310e536af032     13.0       8.0      21.0\n",
       "2  415612e93584d30e     43.0      37.0      80.0\n",
       "3  64dd5cd342e3780c      3.0       0.0       3.0\n",
       "4  015245d773376aab      8.0       0.0       8.0"
      ]
     },
     "execution_count": 268,
     "metadata": {},
     "output_type": "execute_result"
    }
   ],
   "source": [
    "df_nbr_games = df_finished_paths[[\"hashedIpAddress\",'nbr_win']].drop_duplicates().merge(df_unfinished_paths[['hashedIpAddress','nbr_loss']].drop_duplicates(),\n",
    "                                                                                        how = \"outer\",\n",
    "                                                                                        on=\"hashedIpAddress\")\n",
    "df_nbr_games = df_nbr_games.fillna(0)\n",
    "df_nbr_games['nbr_play'] = df_nbr_games['nbr_win'] + df_nbr_games['nbr_loss']\n",
    "df_nbr_games.head()"
   ]
  },
  {
   "cell_type": "code",
   "execution_count": 269,
   "id": "553a44bc",
   "metadata": {},
   "outputs": [],
   "source": [
    "#print(reg.intercept_, reg.coef_, reg.score(np.array(df_lim100['nbr_loss']).reshape(-1, 1),df_lim100['nbr_play']))"
   ]
  },
  {
   "cell_type": "markdown",
   "id": "2a64d020",
   "metadata": {},
   "source": [
    "### Plotting\n",
    "Plot of the analysis using a scatter plot and a linear regression."
   ]
  },
  {
   "cell_type": "code",
   "execution_count": 283,
   "id": "baea5e10",
   "metadata": {},
   "outputs": [
    {
     "data": {
      "image/png": "[encoded data removed]",
      "text/plain": [
       "<Figure size 1200x600 with 2 Axes>"
      ]
     },
     "metadata": {},
     "output_type": "display_data"
    }
   ],
   "source": [
    "fig,axs = plt.subplots(1,2,figsize = (12,6))\n",
    "\n",
    "df_lim100 = df_nbr_games[df_nbr_games[\"nbr_play\"]<=100]\n",
    "\n",
    "#Linear regression calculator\n",
    "regression_loss = LinearRegression(fit_intercept=False).fit(np.array(df_lim100['nbr_loss']).reshape(-1, 1),df_lim100['nbr_play'])\n",
    "axs[0].plot(df_lim100['nbr_loss'],regression_loss.predict(np.array(df_lim100['nbr_loss']).reshape(-1, 1)),'-k')\n",
    "\n",
    "regression_win = LinearRegression(fit_intercept=False).fit(np.array(df_lim100['nbr_win']).reshape(-1, 1),df_lim100['nbr_play'])\n",
    "axs[1].plot(df_lim100['nbr_win'],regression_win.predict(np.array(df_lim100['nbr_win']).reshape(-1, 1)),'-k')\n",
    "\n",
    "#Density calculator:\n",
    "\"\"\"xy_loss = np.vstack([df_nbr_games['nbr_loss'],df_nbr_games['nbr_play']])\n",
    "density_loss = gaussian_kde(xy_loss)(xy_loss)\n",
    "xy_win = np.vstack([df_nbr_games['nbr_win'],df_nbr_games['nbr_play']])\n",
    "density_win = gaussian_kde(xy_win)(xy_win)\"\"\"\n",
    "\n",
    "#Plotting\n",
    "axs[0].scatter(df_nbr_games['nbr_loss'],df_nbr_games['nbr_play'])\n",
    "axs[0].set_title(\"Game played in function of game lost\")\n",
    "axs[0].set_xlabel(\"Number of game lost\")\n",
    "axs[0].set_ylabel(\"Number of game played\")\n",
    "axs[0].set_ylim((0,100))\n",
    "axs[0].set_xlim((0,100))\n",
    "\n",
    "\n",
    "axs[1].scatter(df_nbr_games['nbr_win'],df_nbr_games['nbr_play'])\n",
    "axs[1].set_title(\"Game played in function of game winned\")\n",
    "axs[1].set_xlabel(\"Number of game winned\")\n",
    "axs[1].set_ylabel(\"Number of game played\")\n",
    "axs[1].set_xlim((0,100))\n",
    "axs[1].set_ylim((0,100))\n",
    "\n",
    "\n",
    "plt.show()"
   ]
  },
  {
   "cell_type": "code",
   "execution_count": 271,
   "id": "b8bd14d2",
   "metadata": {},
   "outputs": [
    {
     "name": "stdout",
     "output_type": "stream",
     "text": [
      "Slope Coefficient for loss: 1.94 \n",
      " R^2 loss: 0.46341\n",
      "Slope Coefficient for win: 1.28 \n",
      " R^2 win: 0.83998\n",
      "Mean number of game per player: 3.65\n"
     ]
    }
   ],
   "source": [
    "coeff_loss = regression_loss.coef_[0]\n",
    "R2_loss = regression_loss.score(np.array(df_lim100['nbr_loss']).reshape(-1, 1),df_lim100['nbr_play'])\n",
    "coeff_win = regression_win.coef_[0]\n",
    "R2_win = regression_win.score(np.array(df_lim100['nbr_win']).reshape(-1, 1),df_lim100['nbr_play'])\n",
    "print('Slope Coefficient for loss: %.2f \\n R^2 loss: %.5f' % (coeff_loss,R2_loss))\n",
    "print('Slope Coefficient for win: %.2f \\n R^2 win: %.5f'% (coeff_win,R2_win))\n",
    "print('Mean number of game per player: %.2f'%(df_nbr_games['nbr_play'].mean()))"
   ]
  },
  {
   "cell_type": "markdown",
   "id": "9ab71bd9",
   "metadata": {},
   "source": [
    "From the slope results above, when someone plays a game and lose it he usually plays another 0.94 games. We can round it to asssume that, after losing a game players often plays another one.\n",
    "\n",
    "On the other hand, people play in average 1.28 games if winning. \n",
    "\n",
    "Therefore, from a comportemental point of view, a player tend to play more if losing than if winning. From a reward point of view, losing have a bigger impact on player's interest for the game, which fits researches. "
   ]
  },
  {
   "cell_type": "markdown",
   "id": "dae78e00",
   "metadata": {},
   "source": [
    "Following line shows that by only taking players that played 100 times or less, we discarded only 23 players, we consider them as outliers.\n",
    "\n",
    "We also show how much games were played per person."
   ]
  },
  {
   "cell_type": "code",
   "execution_count": 272,
   "id": "c2c25441",
   "metadata": {},
   "outputs": [
    {
     "name": "stdout",
     "output_type": "stream",
     "text": [
      "Players discarded when reducing to 100 game played: 23\n"
     ]
    }
   ],
   "source": [
    "print(\"Players discarded when reducing to 100 game played: %.f\" %(np.shape(df_nbr_games)[0]-np.shape(df_lim100)[0]))"
   ]
  },
  {
   "cell_type": "code",
   "execution_count": 273,
   "id": "051b9cf4",
   "metadata": {
    "scrolled": true
   },
   "outputs": [
    {
     "data": {
      "image/png": "[encoded data removed]",
      "text/plain": [
       "<Figure size 1200x300 with 2 Axes>"
      ]
     },
     "metadata": {},
     "output_type": "display_data"
    }
   ],
   "source": [
    "fig,axs = plt.subplots(1,2,figsize = (12,3))\n",
    "\n",
    "axs[0].hist(df_lim100[\"nbr_play\"],bins = np.arange(1,101,1))\n",
    "axs[0].set_title(\"distibution game played\")\n",
    "axs[0].set_xlabel(\"Nbr of game played\")\n",
    "\n",
    "axs[1].hist(df_lim100[\"nbr_play\"],bins = np.arange(1,101,1))\n",
    "axs[1].set_title(\"distibution game played log scale\")\n",
    "axs[1].set_yscale(\"log\")\n",
    "axs[1].set_xlabel(\"Nbr of game played\")\n",
    "#axs[1].set_xscale(\"log\")\n",
    "plt.show()"
   ]
  },
  {
   "cell_type": "markdown",
   "id": "8a743b72",
   "metadata": {},
   "source": [
    "### Time spent playing analysis\n",
    "The following analysis follows the same idea as in the first one but using time spent. We use the fact that a game winned is the winning time and for lost game, losing time.\n",
    "\n",
    "A player can lose by two ways: he either lose by restarting or by \"giving up\" when he don't do anything for half an hour. Because we want as losing time the time spent losing, we need to remove 30min for each timeout on the total time to be sure that the player is actively playing."
   ]
  },
  {
   "cell_type": "code",
   "execution_count": 274,
   "id": "cc928781",
   "metadata": {},
   "outputs": [
    {
     "data": {
      "text/html": [
       "<div>\n",
       "<style scoped>\n",
       "    .dataframe tbody tr th:only-of-type {\n",
       "        vertical-align: middle;\n",
       "    }\n",
       "\n",
       "    .dataframe tbody tr th {\n",
       "        vertical-align: top;\n",
       "    }\n",
       "\n",
       "    .dataframe thead th {\n",
       "        text-align: right;\n",
       "    }\n",
       "</style>\n",
       "<table border=\"1\" class=\"dataframe\">\n",
       "  <thead>\n",
       "    <tr style=\"text-align: right;\">\n",
       "      <th></th>\n",
       "      <th>hashedIpAddress</th>\n",
       "      <th>timestamp</th>\n",
       "      <th>durationInSec</th>\n",
       "      <th>path</th>\n",
       "      <th>target</th>\n",
       "      <th>type</th>\n",
       "      <th>nbr_loss</th>\n",
       "      <th>time_spent</th>\n",
       "      <th>nbr_timeout</th>\n",
       "      <th>time_spent_losing</th>\n",
       "    </tr>\n",
       "  </thead>\n",
       "  <tbody>\n",
       "    <tr>\n",
       "      <th>0</th>\n",
       "      <td>2426091a53125110</td>\n",
       "      <td>1297054935</td>\n",
       "      <td>1804</td>\n",
       "      <td>Obi-Wan_Kenobi</td>\n",
       "      <td>Microsoft</td>\n",
       "      <td>timeout</td>\n",
       "      <td>1</td>\n",
       "      <td>1804</td>\n",
       "      <td>1.0</td>\n",
       "      <td>4.0</td>\n",
       "    </tr>\n",
       "    <tr>\n",
       "      <th>1</th>\n",
       "      <td>26141fd878806294</td>\n",
       "      <td>1297055651</td>\n",
       "      <td>1805</td>\n",
       "      <td>Julius_Caesar</td>\n",
       "      <td>Caracas</td>\n",
       "      <td>timeout</td>\n",
       "      <td>1</td>\n",
       "      <td>1805</td>\n",
       "      <td>1.0</td>\n",
       "      <td>5.0</td>\n",
       "    </tr>\n",
       "    <tr>\n",
       "      <th>2</th>\n",
       "      <td>2b015fb8181c48f2</td>\n",
       "      <td>1297090819</td>\n",
       "      <td>1818</td>\n",
       "      <td>Malawi;Democracy;Alexander_the_Great</td>\n",
       "      <td>First_Crusade</td>\n",
       "      <td>timeout</td>\n",
       "      <td>1</td>\n",
       "      <td>1818</td>\n",
       "      <td>1.0</td>\n",
       "      <td>18.0</td>\n",
       "    </tr>\n",
       "    <tr>\n",
       "      <th>3</th>\n",
       "      <td>53a53bc244e08a6a</td>\n",
       "      <td>1297094761</td>\n",
       "      <td>49</td>\n",
       "      <td>Paraguay</td>\n",
       "      <td>Mount_St._Helens</td>\n",
       "      <td>restart</td>\n",
       "      <td>2</td>\n",
       "      <td>1857</td>\n",
       "      <td>1.0</td>\n",
       "      <td>57.0</td>\n",
       "    </tr>\n",
       "    <tr>\n",
       "      <th>4</th>\n",
       "      <td>53a53bc244e08a6a</td>\n",
       "      <td>1297099105</td>\n",
       "      <td>1808</td>\n",
       "      <td>Paraguay;Bolivia</td>\n",
       "      <td>Mount_St._Helens</td>\n",
       "      <td>timeout</td>\n",
       "      <td>2</td>\n",
       "      <td>1857</td>\n",
       "      <td>1.0</td>\n",
       "      <td>57.0</td>\n",
       "    </tr>\n",
       "  </tbody>\n",
       "</table>\n",
       "</div>"
      ],
      "text/plain": [
       "    hashedIpAddress   timestamp  durationInSec  \\\n",
       "0  2426091a53125110  1297054935           1804   \n",
       "1  26141fd878806294  1297055651           1805   \n",
       "2  2b015fb8181c48f2  1297090819           1818   \n",
       "3  53a53bc244e08a6a  1297094761             49   \n",
       "4  53a53bc244e08a6a  1297099105           1808   \n",
       "\n",
       "                                   path            target     type  nbr_loss  \\\n",
       "0                        Obi-Wan_Kenobi         Microsoft  timeout         1   \n",
       "1                         Julius_Caesar           Caracas  timeout         1   \n",
       "2  Malawi;Democracy;Alexander_the_Great     First_Crusade  timeout         1   \n",
       "3                              Paraguay  Mount_St._Helens  restart         2   \n",
       "4                      Paraguay;Bolivia  Mount_St._Helens  timeout         2   \n",
       "\n",
       "   time_spent  nbr_timeout  time_spent_losing  \n",
       "0        1804          1.0                4.0  \n",
       "1        1805          1.0                5.0  \n",
       "2        1818          1.0               18.0  \n",
       "3        1857          1.0               57.0  \n",
       "4        1857          1.0               57.0  "
      ]
     },
     "execution_count": 274,
     "metadata": {},
     "output_type": "execute_result"
    }
   ],
   "source": [
    "#datafame for winning_time:\n",
    "df_finished_paths['time_spent_winning'] = df_finished_paths.groupby('hashedIpAddress')['durationInSec'].transform('sum')\n",
    "\n",
    "#datafame for losing time:\n",
    "df_unfinished_paths['time_spent'] = df_unfinished_paths.groupby('hashedIpAddress')['durationInSec'].transform('sum')\n",
    "df_unfinished_paths['nbr_timeout'] = df_unfinished_paths[df_unfinished_paths['type']=='timeout'].groupby('hashedIpAddress')['type'].transform('count')\n",
    "df_unfinished_paths['nbr_timeout'] = df_unfinished_paths.groupby('hashedIpAddress')['nbr_timeout'].transform('mean')\n",
    "df_unfinished_paths = df_unfinished_paths.fillna(0)\n",
    "df_unfinished_paths['time_spent_losing'] = df_unfinished_paths['time_spent'] - df_unfinished_paths['nbr_timeout'] * 1800 \n",
    "#4 times the timeout happened before 30min, leading to a negative time sprent, put those numbers back to 0.\n",
    "df_unfinished_paths[df_unfinished_paths['time_spent_losing']<0] = 0\n",
    "df_unfinished_paths.head()"
   ]
  },
  {
   "cell_type": "code",
   "execution_count": 275,
   "id": "14f1caba",
   "metadata": {},
   "outputs": [
    {
     "data": {
      "text/html": [
       "<div>\n",
       "<style scoped>\n",
       "    .dataframe tbody tr th:only-of-type {\n",
       "        vertical-align: middle;\n",
       "    }\n",
       "\n",
       "    .dataframe tbody tr th {\n",
       "        vertical-align: top;\n",
       "    }\n",
       "\n",
       "    .dataframe thead th {\n",
       "        text-align: right;\n",
       "    }\n",
       "</style>\n",
       "<table border=\"1\" class=\"dataframe\">\n",
       "  <thead>\n",
       "    <tr style=\"text-align: right;\">\n",
       "      <th></th>\n",
       "      <th>hashedIpAddress</th>\n",
       "      <th>nbr_win</th>\n",
       "      <th>nbr_loss</th>\n",
       "      <th>nbr_play</th>\n",
       "      <th>time_spent_winning</th>\n",
       "      <th>time_spent_losing</th>\n",
       "      <th>time_played</th>\n",
       "    </tr>\n",
       "  </thead>\n",
       "  <tbody>\n",
       "    <tr>\n",
       "      <th>0</th>\n",
       "      <td>6a3701d319fc3754</td>\n",
       "      <td>4.0</td>\n",
       "      <td>4.0</td>\n",
       "      <td>8.0</td>\n",
       "      <td>783.0</td>\n",
       "      <td>644.0</td>\n",
       "      <td>1427.0</td>\n",
       "    </tr>\n",
       "    <tr>\n",
       "      <th>1</th>\n",
       "      <td>3824310e536af032</td>\n",
       "      <td>13.0</td>\n",
       "      <td>8.0</td>\n",
       "      <td>21.0</td>\n",
       "      <td>1300.0</td>\n",
       "      <td>1287.0</td>\n",
       "      <td>2587.0</td>\n",
       "    </tr>\n",
       "    <tr>\n",
       "      <th>2</th>\n",
       "      <td>415612e93584d30e</td>\n",
       "      <td>43.0</td>\n",
       "      <td>37.0</td>\n",
       "      <td>80.0</td>\n",
       "      <td>3083.0</td>\n",
       "      <td>3601.0</td>\n",
       "      <td>6684.0</td>\n",
       "    </tr>\n",
       "    <tr>\n",
       "      <th>3</th>\n",
       "      <td>64dd5cd342e3780c</td>\n",
       "      <td>3.0</td>\n",
       "      <td>0.0</td>\n",
       "      <td>3.0</td>\n",
       "      <td>277.0</td>\n",
       "      <td>0.0</td>\n",
       "      <td>277.0</td>\n",
       "    </tr>\n",
       "    <tr>\n",
       "      <th>4</th>\n",
       "      <td>015245d773376aab</td>\n",
       "      <td>8.0</td>\n",
       "      <td>0.0</td>\n",
       "      <td>8.0</td>\n",
       "      <td>1535.0</td>\n",
       "      <td>0.0</td>\n",
       "      <td>1535.0</td>\n",
       "    </tr>\n",
       "  </tbody>\n",
       "</table>\n",
       "</div>"
      ],
      "text/plain": [
       "    hashedIpAddress  nbr_win  nbr_loss  nbr_play  time_spent_winning  \\\n",
       "0  6a3701d319fc3754      4.0       4.0       8.0               783.0   \n",
       "1  3824310e536af032     13.0       8.0      21.0              1300.0   \n",
       "2  415612e93584d30e     43.0      37.0      80.0              3083.0   \n",
       "3  64dd5cd342e3780c      3.0       0.0       3.0               277.0   \n",
       "4  015245d773376aab      8.0       0.0       8.0              1535.0   \n",
       "\n",
       "   time_spent_losing  time_played  \n",
       "0              644.0       1427.0  \n",
       "1             1287.0       2587.0  \n",
       "2             3601.0       6684.0  \n",
       "3                0.0        277.0  \n",
       "4                0.0       1535.0  "
      ]
     },
     "execution_count": 275,
     "metadata": {},
     "output_type": "execute_result"
    }
   ],
   "source": [
    "# Add new time data in previous dataframe:\n",
    "df_time_games = df_finished_paths[[\"hashedIpAddress\",'time_spent_winning']].drop_duplicates().merge(\n",
    "                                                                                        df_unfinished_paths[['hashedIpAddress','time_spent_losing']].drop_duplicates(),\n",
    "                                                                                        how = \"outer\",\n",
    "                                                                                        on=\"hashedIpAddress\")\n",
    "df_time_games = df_time_games.fillna(0)\n",
    "df_time_games[\"time_played\"] = df_time_games['time_spent_winning'] + df_time_games['time_spent_losing']\n",
    "\n",
    "df_nbr_games = df_nbr_games.merge(df_time_games, how=\"outer\", on=\"hashedIpAddress\")\n",
    "df_nbr_games = df_nbr_games.fillna(0)\n",
    "df_nbr_games.head()"
   ]
  },
  {
   "cell_type": "markdown",
   "id": "6586a955",
   "metadata": {},
   "source": [
    "### Plotting\n",
    "Plot of the analysis using a scatter plot and a linear regression."
   ]
  },
  {
   "cell_type": "code",
   "execution_count": 276,
   "id": "ec087bb4",
   "metadata": {},
   "outputs": [
    {
     "data": {
      "image/png": "[encoded data removed]",
      "text/plain": [
       "<Figure size 1200x600 with 2 Axes>"
      ]
     },
     "metadata": {},
     "output_type": "display_data"
    }
   ],
   "source": [
    "fig,axs = plt.subplots(1,2,figsize = (12,6))\n",
    "\n",
    "df_lim100 = df_nbr_games[df_nbr_games[\"nbr_play\"]<=100]\n",
    "\n",
    "# Linear Regression computation\n",
    "regression_loss_t = LinearRegression(fit_intercept=False).fit(np.array(df_lim100['time_spent_losing']).reshape(-1, 1),df_lim100['time_played'])\n",
    "axs[0].plot(df_lim100['time_spent_losing'],regression_loss_t.predict(np.array(df_lim100['time_spent_losing']).reshape(-1, 1)),'-k')\n",
    "\n",
    "regression_win_t = LinearRegression(fit_intercept=False).fit(np.array(df_lim100['time_spent_winning']).reshape(-1, 1),df_lim100['time_played'])\n",
    "axs[1].plot(df_lim100['time_spent_winning'],regression_win_t.predict(np.array(df_lim100['time_spent_winning']).reshape(-1, 1)),'-k')\n",
    "\n",
    "#Plot\n",
    "axs[0].scatter(df_lim100['time_spent_losing'],df_lim100['time_played'])\n",
    "axs[0].set_title(\"Time played in function of time losing\")\n",
    "\n",
    "axs[1].scatter(df_lim100['time_spent_winning'],df_lim100['time_played'])\n",
    "axs[1].set_title(\"Time played in function of time winning\")\n",
    "\n",
    "plt.show()"
   ]
  },
  {
   "cell_type": "code",
   "execution_count": 277,
   "id": "63c216c7",
   "metadata": {},
   "outputs": [
    {
     "name": "stdout",
     "output_type": "stream",
     "text": [
      "Coefficient loss: 1.68 \n",
      " R^2 loss: 0.41239\n",
      "Coefficient win: 1.22 \n",
      " R^2 win: 0.80860\n",
      "mean time of game per player: 580.74 s\n",
      "mean time of one game: 496.62 s\n"
     ]
    }
   ],
   "source": [
    "coeff_loss_t = regression_loss_t.coef_[0]\n",
    "R2_loss_t = regression_loss_t.score(np.array(df_lim100['time_spent_losing']).reshape(-1, 1),df_lim100['time_played'])\n",
    "coeff_win_t = regression_win_t.coef_[0]\n",
    "R2_win_t = regression_win_t.score(np.array(df_lim100['time_spent_winning']).reshape(-1, 1),df_lim100['time_played'])\n",
    "print('Coefficient loss: %.2f \\n R^2 loss: %.5f' % (coeff_loss_t,R2_loss_t))\n",
    "print('Coefficient win: %.2f \\n R^2 win: %.5f'% (coeff_win_t,R2_win_t))\n",
    "print('mean time of game per player: %.2f s'%(df_nbr_games['time_played'].mean()))\n",
    "print('mean time of one game: %.2f s'%(1/2*df_unfinished_paths['durationInSec'].mean()+1/2*df_finished_paths['durationInSec'].mean()))"
   ]
  },
  {
   "cell_type": "markdown",
   "id": "46cfff64",
   "metadata": {},
   "source": [
    "From the slope results above, when someone spend time losing, he usually spend more overal time playing the game than if he was winning. \n",
    "\n",
    "This might be due to the fact that losing results in more game played.\n",
    "From a behaviroral perspective, when losing, someone requieres to use more parts from his brain to try to complete the task. Therefore from the reward point of view, a loser is more enroled in the game and a defeat is then even more impactful on him."
   ]
  },
  {
   "cell_type": "markdown",
   "id": "32de7efa",
   "metadata": {},
   "source": [
    "We then show how long does a game last per person."
   ]
  },
  {
   "cell_type": "code",
   "execution_count": 280,
   "id": "fc0d6ae5",
   "metadata": {},
   "outputs": [
    {
     "data": {
      "image/png": "[encoded data removed]",
      "text/plain": [
       "<Figure size 1200x300 with 2 Axes>"
      ]
     },
     "metadata": {},
     "output_type": "display_data"
    }
   ],
   "source": [
    "fig,axs = plt.subplots(1,2,figsize = (12,3))\n",
    "\n",
    "axs[0].hist(df_lim100[\"time_played\"],bins = 1000)\n",
    "axs[0].set_title(\"Distibution of the duration of one game\")\n",
    "axs[0].set_xlabel(\"Duration of games\")\n",
    "axs[0].set_xlim([0,1000])\n",
    "\n",
    "axs[1].hist(df_lim100[\"time_played\"],bins = 1000)\n",
    "axs[1].set_title(\"Distibution of the duration of one game log scale\")\n",
    "axs[1].set_xlabel(\"Duration of games\")\n",
    "axs[1].set_yscale(\"log\")\n",
    "axs[1].set_xlim([0,1000])\n",
    "\n",
    "plt.show()"
   ]
  },
  {
   "cell_type": "code",
   "execution_count": null,
   "id": "e05b1638",
   "metadata": {},
   "outputs": [],
   "source": []
  },
  {
   "cell_type": "code",
   "execution_count": null,
   "id": "0f73d871",
   "metadata": {},
   "outputs": [],
   "source": []
  }
 ],
 "metadata": {
  "kernelspec": {
   "display_name": "Python 3 (ipykernel)",
   "language": "python",
   "name": "python3"
  },
  "language_info": {
   "codemirror_mode": {
    "name": "ipython",
    "version": 3
   },
   "file_extension": ".py",
   "mimetype": "text/x-python",
   "name": "python",
   "nbconvert_exporter": "python",
   "pygments_lexer": "ipython3",
   "version": "3.10.6"
  }
 },
 "nbformat": 4,
 "nbformat_minor": 5
}
