{
 "cells": [
  {
   "cell_type": "markdown",
   "id": "06e656a1",
   "metadata": {},
   "source": [
    "# Analysis of the paths \n",
    "\n",
    "\n",
    "The analysis is made under the assumption that people are doing their best when playing.\n",
    "- Extraction of the length of the paths\n",
    "    - TO DO:\n",
    "        - Reduce computational power (Hashing, code improvement,...) \n",
    "            \n",
    "            \n",
    "- Reproduction of the optimal path, or inspiration or use of https://www.sixdegreesofwikipedia.com/\n",
    "    - TO DO: (This task is going to be the thoughest, seems quite difficult but feasible.)\n",
    "        - Implement a local version of the website (Many optimal paths possible)\n",
    "            - Creation of the SQLITE database\n",
    "            - Running of the local website \n",
    "        \n",
    "        \n",
    "- Comparison to the optimal one (Most important part of the analysis) \n",
    "    - TO DO: (Once optimal paths are found) \n",
    "        - Apply the comparison, extract the deviations from the optimal path (From the results of other group members analysis\n",
    "            - From deviations, towards which category / concepts / words are people drawn ? Link with the influence of the environment.\n",
    "            - By which factor are people biased ? \n",
    "            - From optimal paths, which category contains the most informations / is the most useful to get the fastest ? \n",
    "            - Apply to optimal paths, which category contains the most informations ? Link with position of the links"
   ]
  },
  {
   "cell_type": "markdown",
   "id": "c8668e6c",
   "metadata": {},
   "source": [
    "### Goals of P2\n",
    "- Get acquainted with data\n",
    "- preprocess it\n",
    "- complete descriptive statistics tasks \n",
    "***\n",
    "### Expectations\n",
    "- Pipeline in place\n",
    "- Documentend notebook\n",
    "- Show clear project goals\n",
    "### Exemples of what we should show: \n",
    "- That you can handle the data in its size.\n",
    "- That you understand what’s in the data (formats, distributions, missing values, correlations, etc.).\n",
    "- That you considered ways to enrich, filter, transform the data according to your needs.\n",
    "- That you have a reasonable plan and ideas for methods you’re going to use, giving their essential mathematical details in the notebook.\n",
    "- That your plan for analysis and communication is reasonable and sound, potentially discussing alternatives to your choices that you considered but dropped.\n",
    "\n",
    "        "
   ]
  },
  {
   "cell_type": "code",
   "execution_count": 1,
   "id": "e15046df",
   "metadata": {},
   "outputs": [],
   "source": [
    "#Import of the library\n",
    "import numpy as np\n",
    "import urllib.parse\n",
    "import matplotlib.pyplot as plt \n",
    "import pandas as pd \n",
    "from tqdm import trange\n",
    "import pickle as pkl\n",
    "import pandas as pd "
   ]
  },
  {
   "cell_type": "markdown",
   "id": "412357ff",
   "metadata": {},
   "source": [
    "## Data Wrangling\n",
    "***\n",
    "### Matrix of shortest path\n",
    "In order to compare average users paths with the optimal ones."
   ]
  },
  {
   "cell_type": "code",
   "execution_count": 2,
   "id": "71a5fdf4",
   "metadata": {},
   "outputs": [
    {
     "ename": "FileNotFoundError",
     "evalue": "[Errno 2] No such file or directory: 'data/shortest_distance_matrix.npy'",
     "output_type": "error",
     "traceback": [
      "\u001b[0;31m---------------------------------------------------------------------------\u001b[0m",
      "\u001b[0;31mFileNotFoundError\u001b[0m                         Traceback (most recent call last)",
      "\u001b[0;32m/tmp/ipykernel_9126/2681750289.py\u001b[0m in \u001b[0;36m<module>\u001b[0;34m\u001b[0m\n\u001b[1;32m     19\u001b[0m     \u001b[0;32mreturn\u001b[0m\u001b[0;34m\u001b[0m\u001b[0;34m\u001b[0m\u001b[0m\n\u001b[1;32m     20\u001b[0m \u001b[0;34m\u001b[0m\u001b[0m\n\u001b[0;32m---> 21\u001b[0;31m \u001b[0mshortest_distance_matrix\u001b[0m \u001b[0;34m=\u001b[0m \u001b[0mnp\u001b[0m\u001b[0;34m.\u001b[0m\u001b[0mload\u001b[0m\u001b[0;34m(\u001b[0m\u001b[0;34m\"data/shortest_distance_matrix.npy\"\u001b[0m\u001b[0;34m)\u001b[0m\u001b[0;34m\u001b[0m\u001b[0;34m\u001b[0m\u001b[0m\n\u001b[0m\u001b[1;32m     22\u001b[0m \u001b[0mnumber_of_words\u001b[0m \u001b[0;34m=\u001b[0m \u001b[0;36m4604\u001b[0m\u001b[0;34m\u001b[0m\u001b[0;34m\u001b[0m\u001b[0m\n",
      "\u001b[0;32m~/anaconda3/lib/python3.9/site-packages/numpy/lib/npyio.py\u001b[0m in \u001b[0;36mload\u001b[0;34m(file, mmap_mode, allow_pickle, fix_imports, encoding)\u001b[0m\n\u001b[1;32m    415\u001b[0m             \u001b[0mown_fid\u001b[0m \u001b[0;34m=\u001b[0m \u001b[0;32mFalse\u001b[0m\u001b[0;34m\u001b[0m\u001b[0;34m\u001b[0m\u001b[0m\n\u001b[1;32m    416\u001b[0m         \u001b[0;32melse\u001b[0m\u001b[0;34m:\u001b[0m\u001b[0;34m\u001b[0m\u001b[0;34m\u001b[0m\u001b[0m\n\u001b[0;32m--> 417\u001b[0;31m             \u001b[0mfid\u001b[0m \u001b[0;34m=\u001b[0m \u001b[0mstack\u001b[0m\u001b[0;34m.\u001b[0m\u001b[0menter_context\u001b[0m\u001b[0;34m(\u001b[0m\u001b[0mopen\u001b[0m\u001b[0;34m(\u001b[0m\u001b[0mos_fspath\u001b[0m\u001b[0;34m(\u001b[0m\u001b[0mfile\u001b[0m\u001b[0;34m)\u001b[0m\u001b[0;34m,\u001b[0m \u001b[0;34m\"rb\"\u001b[0m\u001b[0;34m)\u001b[0m\u001b[0;34m)\u001b[0m\u001b[0;34m\u001b[0m\u001b[0;34m\u001b[0m\u001b[0m\n\u001b[0m\u001b[1;32m    418\u001b[0m             \u001b[0mown_fid\u001b[0m \u001b[0;34m=\u001b[0m \u001b[0;32mTrue\u001b[0m\u001b[0;34m\u001b[0m\u001b[0;34m\u001b[0m\u001b[0m\n\u001b[1;32m    419\u001b[0m \u001b[0;34m\u001b[0m\u001b[0m\n",
      "\u001b[0;31mFileNotFoundError\u001b[0m: [Errno 2] No such file or directory: 'data/shortest_distance_matrix.npy'"
     ]
    }
   ],
   "source": [
    "#%%timeit -r 1 -n 1\n",
    "\n",
    "# Function to write the matrix in an annex file, to save some time \n",
    "def shortest_path_matrix_writing():\n",
    "    number_of_words = 4604 #Given data\n",
    "    with open(\"wikispeedia_paths-and-graph/shortest-path-distance-matrix.txt\", \"r\") as f:\n",
    "        shortest_distance_matrix = np.zeros((number_of_words,number_of_words))\n",
    "        for i in range(17):\n",
    "            f.readline()\n",
    "        for i, line in enumerate(f) :\n",
    "            line = line.strip('\\n')\n",
    "            for j, number in enumerate(line):\n",
    "                if number == '_': #replacing impossible paths with nans\n",
    "                    number = np.nan\n",
    "                else:\n",
    "                    number = int(number)\n",
    "                shortest_distance_matrix[i,j] = number\n",
    "    np.save(\"data/shortest_distance_matrix\", shortest_distance_matrix)\n",
    "    return \n",
    "\n",
    "shortest_distance_matrix = np.load(\"data/shortest_distance_matrix.npy\")\n",
    "number_of_words = 4604"
   ]
  },
  {
   "cell_type": "markdown",
   "id": "f6117c96",
   "metadata": {},
   "source": [
    "Following initial analysis"
   ]
  },
  {
   "cell_type": "code",
   "execution_count": 3,
   "id": "25599a92",
   "metadata": {},
   "outputs": [
    {
     "data": {
      "image/png": "[encoded data removed]",
      "text/plain": [
       "<Figure size 432x288 with 1 Axes>"
      ]
     },
     "metadata": {},
     "output_type": "display_data"
    },
    {
     "name": "stdout",
     "output_type": "stream",
     "text": [
      "Mean of shortest paths: 3.2\n",
      "Median: 3.2\n",
      "Frequence of impossible paths: 0.12 \n"
     ]
    }
   ],
   "source": [
    "d1_shortest_matrix = np.reshape(shortest_distance_matrix ,-1)\n",
    "plt.hist(d1_shortest_matrix, bins = 10, density = True)\n",
    "plt.xlabel(\"Number of steps\")\n",
    "plt.ylabel(\"Frequencies\")\n",
    "plt.title(\"Histogram of the possible paths\")\n",
    "plt.show()\n",
    "print(\"Mean of shortest paths: %.1f\" % (np.mean(d1_shortest_matrix[~np.isnan(d1_shortest_matrix)])))\n",
    "print(\"Median: %.1f\" % np.mean(d1_shortest_matrix[~np.isnan(d1_shortest_matrix)]))\n",
    "print(\"Frequence of impossible paths: %.2f \" %\n",
    "      (len(d1_shortest_matrix[np.isnan(d1_shortest_matrix)])/len(d1_shortest_matrix)))"
   ]
  },
  {
   "cell_type": "markdown",
   "id": "61a95e2e",
   "metadata": {},
   "source": [
    "### Articles dataset\n",
    "In order to associate path with names as the shortest path matrix in the same order as articles.\n",
    "\n",
    "We use the library urllib.parse in order to decode from URL.\n",
    "\n",
    "By using %%timeit, we notice a notable time difference in execution time when decoding from URL. \n",
    "\n",
    "We decide not to decode it straightaway but only when it is necessary (when we need to know the name of the article) as it is for now not necessary to decode the URL encoding for the names of the articles. "
   ]
  },
  {
   "cell_type": "code",
   "execution_count": 4,
   "id": "1f960b17",
   "metadata": {},
   "outputs": [],
   "source": [
    "#%%timeit -r 1 -n 1\n",
    "\n",
    "with open(\"wikispeedia_paths-and-graph/articles.tsv\", \"r\", newline = '\\n') as f:\n",
    "    articles = [None]*number_of_words\n",
    "    articles_decoded = [None]*number_of_words\n",
    "    for i in range(12):\n",
    "        f.readline()\n",
    "    for i, line in enumerate(f):\n",
    "        articles_decoded[i] = urllib.parse.unquote(line.strip('\\n')) #Decoding \n",
    "        articles[i] = line.strip('\\n')"
   ]
  },
  {
   "cell_type": "code",
   "execution_count": 5,
   "id": "96ee75f5",
   "metadata": {},
   "outputs": [
    {
     "name": "stdout",
     "output_type": "stream",
     "text": [
      "Fraction of the encoded words: 0.08\n"
     ]
    }
   ],
   "source": [
    "count = 0\n",
    "for i in range(number_of_words):\n",
    "    if articles[i] != articles_decoded[i]:\n",
    "        count += 1\n",
    "print(\"Fraction of the encoded words: %.2f\" % (count/number_of_words))\n",
    "    "
   ]
  },
  {
   "cell_type": "markdown",
   "id": "197e3ea5",
   "metadata": {},
   "source": [
    "### Website testing\n",
    "We make tests to see if the website is in adequation with our datas.\n",
    "https://www.sixdegreesofwikipedia.com/"
   ]
  },
  {
   "cell_type": "code",
   "execution_count": 6,
   "id": "c6ae42f0",
   "metadata": {},
   "outputs": [
    {
     "name": "stdout",
     "output_type": "stream",
     "text": [
      "Example of article where minimum distance == 8\n",
      "16_Cygni\n",
      "Timken_1111\n",
      "\n",
      "\n",
      "Example of article where minimum distance doesn't exist\n",
      "Zulu\n",
      "Zara_Yaqob\n"
     ]
    }
   ],
   "source": [
    "a= np.where(shortest_distance_matrix==8)\n",
    "b = np.where(np.isnan(shortest_distance_matrix))\n",
    "print(\"Example of article where minimum distance == 8\")\n",
    "print(articles[a[0][0]])\n",
    "print(articles[a[1][0]])\n",
    "print(\"\\n\")\n",
    "print(\"Example of article where minimum distance doesn't exist\")\n",
    "print(articles[b[0][-1]])\n",
    "print(articles[b[1][-1]])"
   ]
  },
  {
   "cell_type": "markdown",
   "id": "62f92afc",
   "metadata": {},
   "source": [
    "For both of those examples, the website finds examples that are either shorter or existant. This makes sense as our datas are  only constituted of ~4600 articles, whereas theirs of ~6 million articles. \n",
    "\n",
    "One option is to reproduce the website code based on our datas.\n",
    "- https://github.com/jwngr/sdow/blob/master/.github/CONTRIBUTING.md\n",
    "- https://github.com/jwngr/sdow/blob/master/docs/data-source.md\n",
    "- https://github.com/jwngr/sdow/blob/master/scripts/create_mock_databases.py\n",
    "\n",
    "Based on the above links this option seems very plausible. \n",
    "\n",
    "A second option is to create our own optimal path algorithm.\n",
    "\n",
    "***"
   ]
  },
  {
   "cell_type": "markdown",
   "id": "f9b2e0b2",
   "metadata": {},
   "source": [
    "***\n",
    "### Categories data\n",
    "In order to infer a categorie favored by the players.\n",
    "\n",
    "Many articles have several categories, some have none. "
   ]
  },
  {
   "cell_type": "code",
   "execution_count": 7,
   "id": "7884c40a",
   "metadata": {},
   "outputs": [
    {
     "name": "stdout",
     "output_type": "stream",
     "text": [
      "There's 129 categories\n",
      "\n",
      "Max is subject.Countries with 229\n",
      "Min is subject.Art.Artists with 2\n",
      "Median is at 27\n",
      "Mean is at 40\n",
      "Categories ranked by number of article they contain:\n",
      "\n",
      "                                                    article\n",
      "category                                                   \n",
      "subject.Countries                                       229\n",
      "subject.Science.Biology.Birds                           161\n",
      "subject.Geography.Geography_of_Great_Britain            124\n",
      "subject.Science.Chemistry.Chemical_elements             119\n",
      "subject.Science.Biology.Mammals                         114\n",
      "...                                                     ...\n",
      "subject.Geography.Antarctica                              8\n",
      "subject.People.Chemists                                   8\n",
      "subject.People.Producers_directors_and_media_fi...        8\n",
      "subject.IT.Cryptography                                   6\n",
      "subject.Art.Artists                                       2\n",
      "\n",
      "[129 rows x 1 columns]\n"
     ]
    },
    {
     "data": {
      "image/png": "[encoded data removed]",
      "text/plain": [
       "<Figure size 576x432 with 2 Axes>"
      ]
     },
     "metadata": {},
     "output_type": "display_data"
    }
   ],
   "source": [
    "categories = pd.read_csv(\"wikispeedia_paths-and-graph/categories.tsv\",\n",
    "                         sep = '\\t', skiprows = 13, names = ['article', 'category'])\n",
    "#print(nb_by_cat)\n",
    "\n",
    "nb_by_cat = categories.groupby('category').count()\n",
    "fig, ax = plt.subplots(nrows = 1, ncols = 2, figsize= (8,6))\n",
    "fig.tight_layout(pad = 5)\n",
    "fig.suptitle('Number of articles per category', fontsize = 17)\n",
    "\n",
    "ax[1].hist(nb_by_cat, bins = 50, density = True)\n",
    "ax[0].boxplot(nb_by_cat)\n",
    "ax[1].set_title(\"Histogram\")\n",
    "ax[0].set_title(\"Boxplot\")\n",
    "ax[1].set_xlabel('Number of articles in a category')\n",
    "ax[1].set_ylabel('Frequencies')\n",
    "ax[0].set_xticks([])\n",
    "ax[1].set_xlim([0,150])\n",
    "\n",
    "print(\"There's %d categories\\n\" % len(nb_by_cat))\n",
    "print(\"Max is %s with %d\\nMin is %s with %d\\nMedian is at %d\\nMean is at %d\" % \n",
    "      (nb_by_cat['article'].idxmax(), max(nb_by_cat['article']),nb_by_cat['article'].idxmin(), \n",
    "       min(nb_by_cat['article']),nb_by_cat['article'].median(), nb_by_cat['article'].mean()))\n",
    "\n",
    "pd.set_option('display.max_rows', 10)\n",
    "print(\"Categories ranked by number of article they contain:\\n\")\n",
    "print(nb_by_cat.sort_values('article', ascending = False))"
   ]
  },
  {
   "cell_type": "markdown",
   "id": "06df94bc",
   "metadata": {},
   "source": [
    "***\n",
    "### Paths data \n",
    "In order to analyze the players behaviour (only finished paths)"
   ]
  },
  {
   "cell_type": "code",
   "execution_count": 8,
   "id": "7760d34c",
   "metadata": {},
   "outputs": [],
   "source": [
    "paths_finished = pd.read_csv(\"wikispeedia_paths-and-graph/paths_finished.tsv\", \n",
    "                             sep = '\\t', skiprows = 16, usecols = [3], names = ['paths'])"
   ]
  },
  {
   "cell_type": "markdown",
   "id": "99b1d395",
   "metadata": {},
   "source": [
    "#### Hashing implementation\n",
    "\n",
    "In order to reduce the computation time of the analysis of the paths, hashing could be interessant.\n",
    "\n",
    "This step is ignored for now, might be implemented later.\n"
   ]
  },
  {
   "cell_type": "code",
   "execution_count": 9,
   "id": "a2fcc61b",
   "metadata": {},
   "outputs": [
    {
     "name": "stdout",
     "output_type": "stream",
     "text": [
      "Community\n",
      "6482\n",
      "List_of_U.S._states_by_date_of_statehood\n",
      "90370\n"
     ]
    }
   ],
   "source": [
    "## HASHING \n",
    "#To be finished\n",
    "def hash_function(key):\n",
    "    return sum(index * ord(character) for index, character in enumerate(repr(key), start=1))\n",
    "\n",
    "print(articles[1000])\n",
    "print(hash_function(articles[1000]))\n",
    "print(articles[2500])\n",
    "print(hash_function(articles[2500]))\n"
   ]
  },
  {
   "cell_type": "markdown",
   "id": "d79fe15d",
   "metadata": {},
   "source": [
    "### Analysis of the paths\n",
    "\n",
    "When we look for certains user's paths length average, we want to get the index of the intial and final words to obtain the comparison with optimal length. \n",
    "\n",
    "Assuming we ignore when they go back.\n",
    "\n",
    "The words need to be accessible for later"
   ]
  },
  {
   "cell_type": "code",
   "execution_count": 17,
   "id": "72eebe1c",
   "metadata": {},
   "outputs": [],
   "source": [
    "#### While hashing is not finished, we save the results ouf our initial analysis in order to get them instantly.\n",
    "\n",
    "def paths_pickled(step):\n",
    "    \n",
    "    header = ['index_initial', 'index_final','length_path','length_path_bs','path', 'path_backslash']\n",
    "    paths_unpacked = pd.DataFrame(columns = header, dtype = object)\n",
    "    \n",
    "    for j in trange(0,len(paths_finished),step):\n",
    "        \n",
    "        each_word_bs = paths_finished['paths'][j].split(';')\n",
    "        path_bs_length = len(each_word_bs)\n",
    "        each_word = paths_finished['paths'][j].replace('<;', '').split(';') # .replace() to ignore when they go back\n",
    "        \n",
    "        path_length = len(each_word)\n",
    "        index_initial = articles.index(each_word[0])\n",
    "        index_final  = articles.index(each_word[-1])\n",
    "        \n",
    "        to_df = [index_initial, index_final, path_length, path_bs_length, each_word, each_word_bs]\n",
    "        \n",
    "        paths_unpacked.loc[j] = to_df\n",
    "        \n",
    "        paths_unpacked.to_pickle(\"data/paths_dataframe.pkl\")\n",
    "        \n",
    "    return \n",
    "\n",
    "\n",
    "\n",
    "    #print(\"Beginning: %s \\t End: %s\" % (each_word[0], each_word[-1]))\n",
    "    #print(\"Length of the path: %15d\" % int(len(each_word)))\n",
    "    #print(\"Length of the optimal path: %7d\"  % shortest_distance_matrix[index_initial, index_final])"
   ]
  },
  {
   "cell_type": "code",
   "execution_count": 39,
   "id": "7c0168fb",
   "metadata": {},
   "outputs": [
    {
     "data": {
      "text/html": [
       "<div>\n",
       "<style scoped>\n",
       "    .dataframe tbody tr th:only-of-type {\n",
       "        vertical-align: middle;\n",
       "    }\n",
       "\n",
       "    .dataframe tbody tr th {\n",
       "        vertical-align: top;\n",
       "    }\n",
       "\n",
       "    .dataframe thead th {\n",
       "        text-align: right;\n",
       "    }\n",
       "</style>\n",
       "<table border=\"1\" class=\"dataframe\">\n",
       "  <thead>\n",
       "    <tr style=\"text-align: right;\">\n",
       "      <th></th>\n",
       "      <th>index_initial</th>\n",
       "      <th>index_final</th>\n",
       "      <th>length_path</th>\n",
       "      <th>length_path_bs</th>\n",
       "      <th>path</th>\n",
       "      <th>path_backslash</th>\n",
       "    </tr>\n",
       "  </thead>\n",
       "  <tbody>\n",
       "    <tr>\n",
       "      <th>0</th>\n",
       "      <td>10</td>\n",
       "      <td>143</td>\n",
       "      <td>9</td>\n",
       "      <td>9</td>\n",
       "      <td>[14th_century, 15th_century, 16th_century, Pac...</td>\n",
       "      <td>[14th_century, 15th_century, 16th_century, Pac...</td>\n",
       "    </tr>\n",
       "    <tr>\n",
       "      <th>1</th>\n",
       "      <td>10</td>\n",
       "      <td>143</td>\n",
       "      <td>5</td>\n",
       "      <td>5</td>\n",
       "      <td>[14th_century, Europe, Africa, Atlantic_slave_...</td>\n",
       "      <td>[14th_century, Europe, Africa, Atlantic_slave_...</td>\n",
       "    </tr>\n",
       "    <tr>\n",
       "      <th>2</th>\n",
       "      <td>10</td>\n",
       "      <td>143</td>\n",
       "      <td>8</td>\n",
       "      <td>8</td>\n",
       "      <td>[14th_century, Niger, Nigeria, British_Empire,...</td>\n",
       "      <td>[14th_century, Niger, Nigeria, British_Empire,...</td>\n",
       "    </tr>\n",
       "    <tr>\n",
       "      <th>3</th>\n",
       "      <td>10</td>\n",
       "      <td>1793</td>\n",
       "      <td>4</td>\n",
       "      <td>4</td>\n",
       "      <td>[14th_century, Renaissance, Ancient_Greece, Gr...</td>\n",
       "      <td>[14th_century, Renaissance, Ancient_Greece, Gr...</td>\n",
       "    </tr>\n",
       "    <tr>\n",
       "      <th>4</th>\n",
       "      <td>10</td>\n",
       "      <td>2266</td>\n",
       "      <td>7</td>\n",
       "      <td>7</td>\n",
       "      <td>[14th_century, Italy, Roman_Catholic_Church, H...</td>\n",
       "      <td>[14th_century, Italy, Roman_Catholic_Church, H...</td>\n",
       "    </tr>\n",
       "    <tr>\n",
       "      <th>...</th>\n",
       "      <td>...</td>\n",
       "      <td>...</td>\n",
       "      <td>...</td>\n",
       "      <td>...</td>\n",
       "      <td>...</td>\n",
       "      <td>...</td>\n",
       "    </tr>\n",
       "    <tr>\n",
       "      <th>51313</th>\n",
       "      <td>4558</td>\n",
       "      <td>928</td>\n",
       "      <td>3</td>\n",
       "      <td>3</td>\n",
       "      <td>[Yagan, Ancient_Egypt, Civilization]</td>\n",
       "      <td>[Yagan, Ancient_Egypt, Civilization]</td>\n",
       "    </tr>\n",
       "    <tr>\n",
       "      <th>51314</th>\n",
       "      <td>4558</td>\n",
       "      <td>1500</td>\n",
       "      <td>8</td>\n",
       "      <td>9</td>\n",
       "      <td>[Yagan, Folklore, Brothers_Grimm, 19th_century...</td>\n",
       "      <td>[Yagan, Folklore, Brothers_Grimm, &lt;, 19th_cent...</td>\n",
       "    </tr>\n",
       "    <tr>\n",
       "      <th>51315</th>\n",
       "      <td>4558</td>\n",
       "      <td>4273</td>\n",
       "      <td>7</td>\n",
       "      <td>7</td>\n",
       "      <td>[Yagan, Australia, England, France, United_Sta...</td>\n",
       "      <td>[Yagan, Australia, England, France, United_Sta...</td>\n",
       "    </tr>\n",
       "    <tr>\n",
       "      <th>51316</th>\n",
       "      <td>4562</td>\n",
       "      <td>97</td>\n",
       "      <td>4</td>\n",
       "      <td>4</td>\n",
       "      <td>[Yarralumla%2C_Australian_Capital_Territory, A...</td>\n",
       "      <td>[Yarralumla%2C_Australian_Capital_Territory, A...</td>\n",
       "    </tr>\n",
       "    <tr>\n",
       "      <th>51317</th>\n",
       "      <td>4594</td>\n",
       "      <td>2244</td>\n",
       "      <td>3</td>\n",
       "      <td>3</td>\n",
       "      <td>[Ziad_Jarrah, Germany, Jew]</td>\n",
       "      <td>[Ziad_Jarrah, Germany, Jew]</td>\n",
       "    </tr>\n",
       "  </tbody>\n",
       "</table>\n",
       "<p>51318 rows × 6 columns</p>\n",
       "</div>"
      ],
      "text/plain": [
       "      index_initial  ...                                     path_backslash\n",
       "0                10  ...  [14th_century, 15th_century, 16th_century, Pac...\n",
       "1                10  ...  [14th_century, Europe, Africa, Atlantic_slave_...\n",
       "2                10  ...  [14th_century, Niger, Nigeria, British_Empire,...\n",
       "3                10  ...  [14th_century, Renaissance, Ancient_Greece, Gr...\n",
       "4                10  ...  [14th_century, Italy, Roman_Catholic_Church, H...\n",
       "...             ...  ...                                                ...\n",
       "51313          4558  ...               [Yagan, Ancient_Egypt, Civilization]\n",
       "51314          4558  ...  [Yagan, Folklore, Brothers_Grimm, <, 19th_cent...\n",
       "51315          4558  ...  [Yagan, Australia, England, France, United_Sta...\n",
       "51316          4562  ...  [Yarralumla%2C_Australian_Capital_Territory, A...\n",
       "51317          4594  ...                        [Ziad_Jarrah, Germany, Jew]\n",
       "\n",
       "[51318 rows x 6 columns]"
      ]
     },
     "execution_count": 39,
     "metadata": {},
     "output_type": "execute_result"
    }
   ],
   "source": [
    "paths_unpacked = pd.read_pickle(\"data/paths_dataframe.pkl\")\n",
    "paths_unpacked"
   ]
  },
  {
   "cell_type": "markdown",
   "id": "19f05ae1",
   "metadata": {},
   "source": [
    "Here's a few example of the differences between the length of the optimal path and the length of the player path"
   ]
  },
  {
   "cell_type": "code",
   "execution_count": 20,
   "id": "236bb8f2",
   "metadata": {},
   "outputs": [
    {
     "name": "stdout",
     "output_type": "stream",
     "text": [
      "Length of the path played: 9 \n",
      "Length of the optimal path: 3\n",
      " Difference of: 6\n",
      "\n",
      "Length of the path played: 7 \n",
      "Length of the optimal path: 3\n",
      " Difference of: 4\n",
      "\n",
      "Length of the path played: 13 \n",
      "Length of the optimal path: 3\n",
      " Difference of: 10\n",
      "\n",
      "Length of the path played: 9 \n",
      "Length of the optimal path: 3\n",
      " Difference of: 6\n",
      "\n"
     ]
    }
   ],
   "source": [
    "for i in range(0,51500,15000):\n",
    "    print(\"Length of the path played: %d \\nLength of the optimal path: %d\\n Difference of: %d\\n\" \n",
    "          % (paths_unpacked['length_path'][i],shortest_distance_matrix[paths_unpacked['index_initial'][i]][paths_unpacked['index_final'][i]],\n",
    "            paths_unpacked['length_path'][i]-shortest_distance_matrix[paths_unpacked['index_initial'][i]][paths_unpacked['index_final'][i]]))"
   ]
  },
  {
   "cell_type": "markdown",
   "id": "e3397757",
   "metadata": {},
   "source": [
    "Descriptive statistics of the finished_paths datas"
   ]
  },
  {
   "cell_type": "code",
   "execution_count": 48,
   "id": "fc6f32b2",
   "metadata": {},
   "outputs": [
    {
     "name": "stdout",
     "output_type": "stream",
     "text": [
      "Max:   420.0\n",
      "Mean:    6.4\n",
      "Median:  6.0\n",
      "Median:  6.0\n"
     ]
    },
    {
     "data": {
      "image/png": "[encoded data removed]",
      "text/plain": [
       "<Figure size 720x576 with 4 Axes>"
      ]
     },
     "metadata": {},
     "output_type": "display_data"
    }
   ],
   "source": [
    "path_lengths = paths_unpacked['length_path']\n",
    "path_lengths_bs = paths_unpacked['length_path_bs']\n",
    "\n",
    "fig, ax = plt.subplots(nrows = 2, ncols = 2, figsize= (10, 8))\n",
    "fig.tight_layout(pad = 5)\n",
    "fig.suptitle('Length of the paths played', fontsize = 20)\n",
    "\n",
    "\n",
    "ax[0,0].hist(path_lengths, bins = 150, density = True)\n",
    "ax[0,1].hist(np.log10(paths_unpacked['length_path'].astype(float)), bins = 150, density = True )\n",
    "ax[1,0].boxplot(path_lengths)\n",
    "ax[1,1].boxplot(np.log10(paths_unpacked['length_path'].astype(float)))\n",
    "ax[0,0].set_title(\"Histogram of lengths\")\n",
    "ax[0,1].set_title(\"Histogram of log-lengths\")\n",
    "ax[1,0].set_title(\"Boxplot of lengths\")\n",
    "ax[1,1].set_title(\"Boxpot of log-lengths\")\n",
    "\n",
    "ax[0,0].set_xlim([0,50])\n",
    "ax[1,0].set_ylim([0,50])\n",
    "ax[0,0].set_xlabel('Number of articles in a category')\n",
    "ax[0,0].set_ylabel('Frequencies')\n",
    "ax[1,0].set_xticks([])\n",
    "ax[1,1].set_xticks([]);\n",
    "\n",
    "print(\"Max: % 7.1f\" % max(path_lengths))\n",
    "print(\"Mean: %6.1f\" % path_lengths.mean())\n",
    "print(\"Median: %4.1f\" % path_lengths.median())\n",
    "print(\"Median: %4.1f\" % path_lengths_bs.median())\n",
    "\n"
   ]
  },
  {
   "cell_type": "markdown",
   "id": "7bb86f53",
   "metadata": {},
   "source": [
    "From this initial analysis, it seems players use 3 more clicks in average than optimal paths"
   ]
  },
  {
   "cell_type": "markdown",
   "id": "d301d26f",
   "metadata": {},
   "source": [
    "***\n",
    "## Following steps\n",
    "\n",
    "Once the optimal paths are found, we will be able to establish a comparison between the optimal and the played paths. \n",
    "\n",
    "Everytime a player plays a move that make the paths get 1 step longer, we will consider it a 'sub-optimal' decision and try to find a explanation from the different factors studied. For example: a decision induced by an external event, or the position of the links in the page.\n",
    "\n",
    "The analysis will be carried on the word inducing the 'sub-optimal' decision by analyzing it's charachteristics (what categories of links are present on the page, their respective position, the numbers of game played (win/loose) played before,...) "
   ]
  }
 ],
 "metadata": {
  "kernelspec": {
   "display_name": "Python 3 (ipykernel)",
   "language": "python",
   "name": "python3"
  },
  "language_info": {
   "codemirror_mode": {
    "name": "ipython",
    "version": 3
   },
   "file_extension": ".py",
   "mimetype": "text/x-python",
   "name": "python",
   "nbconvert_exporter": "python",
   "pygments_lexer": "ipython3",
   "version": "3.9.13"
  }
 },
 "nbformat": 4,
 "nbformat_minor": 5
}
