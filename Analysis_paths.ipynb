{
 "cells": [
  {
   "cell_type": "markdown",
   "id": "5b227f3e",
   "metadata": {},
   "source": [
    "# Analysis of the paths \n",
    "\n",
    "\n",
    "The analysis is made under the assumption that people are doing their best when playing.\n",
    "- Extraction of the length of the paths\n",
    "    - TO DO:\n",
    "        - Reduce computational power (Hashing, code improvement,...)\n",
    "        - Average  \n",
    "            \n",
    "            \n",
    "- Reproduction of the optimal path, or inspiration or use of https://www.sixdegreesofwikipedia.com/\n",
    "    - TO DO: (This task is going to be the thoughest, seems quite difficult but feasible.)\n",
    "        - Implement a local version of the website (Many optimal paths possible)\n",
    "            - Creation of the SQLITE database\n",
    "            - Running of the local website \n",
    "        \n",
    "        \n",
    "- Comparison to the optimal one (Most important part of the analysis) \n",
    "    - TO DO: (Once optimal paths are found) \n",
    "        - Apply the comparison, extract the deviations from the optimal path\n",
    "        \n",
    "             \n",
    "- Extraction of the most important categories (HUBs)\n",
    "    - TO DO:\n",
    "        - From deviations, towards which category are people drawn ? Link with the influence of the environment cf.Emilien\n",
    "        - Apply to optimal paths, which category contains the most informations ? Link with position of the links cf. Christophe"
   ]
  },
  {
   "cell_type": "markdown",
   "id": "e8597331",
   "metadata": {},
   "source": [
    "### Goals of P2\n",
    "- Get acquainted with data\n",
    "- preprocess it\n",
    "- complete descriptive statistics tasks \n",
    "***\n",
    "### Expectations\n",
    "- Pipeline in place\n",
    "- Documentend notebook\n",
    "- Show clear project goals\n",
    "### Exemples of what we should show: \n",
    "- That you can handle the data in its size.\n",
    "- That you understand what’s in the data (formats, distributions, missing values, correlations, etc.).\n",
    "- That you considered ways to enrich, filter, transform the data according to your needs.\n",
    "- That you have a reasonable plan and ideas for methods you’re going to use, giving their essential mathematical details in the notebook.\n",
    "- That your plan for analysis and communication is reasonable and sound, potentially discussing alternatives to your choices that you considered but dropped.\n",
    "\n",
    "        "
   ]
  },
  {
   "cell_type": "code",
   "execution_count": 1,
   "id": "8ce3542b",
   "metadata": {},
   "outputs": [],
   "source": [
    "#Import of the library\n",
    "import numpy as np\n",
    "import csv\n",
    "import urllib.parse\n",
    "import matplotlib.pyplot as plt \n",
    "import pandas as pd \n",
    "from tqdm import trange"
   ]
  },
  {
   "cell_type": "markdown",
   "id": "26841e28",
   "metadata": {},
   "source": [
    "## Data Reading\n",
    "***\n",
    "### Matrix of shortest path\n",
    "In order to compare average users paths with the optimal ones."
   ]
  },
  {
   "cell_type": "code",
   "execution_count": 2,
   "id": "8f40ed06",
   "metadata": {},
   "outputs": [],
   "source": [
    "#%%timeit -r 1 -n 1\n",
    "\n",
    "# Actually the matrix might not be needed, might skip this step \n",
    "number_of_words = 4604\n",
    "with open(\"DATA/wikispeedia_paths-and-graph/shortest-path-distance-matrix.txt\", \"r\") as f:\n",
    "    shortest_distance_matrix = np.zeros((number_of_words,number_of_words))\n",
    "    for i in range(17):\n",
    "        f.readline()\n",
    "    for i, line in enumerate(f) :\n",
    "        line = line.strip('\\n')\n",
    "        for j, number in enumerate(line):\n",
    "            if number == '_': #replacing impossible paths with nans\n",
    "                number = np.nan\n",
    "            else:\n",
    "                number = int(number)\n",
    "            shortest_distance_matrix[i,j] = number\n"
   ]
  },
  {
   "cell_type": "code",
   "execution_count": 3,
   "id": "edbb6752",
   "metadata": {},
   "outputs": [
    {
     "data": {
      "image/png": "[encoded data removed]",
      "text/plain": [
       "<Figure size 432x288 with 1 Axes>"
      ]
     },
     "metadata": {},
     "output_type": "display_data"
    },
    {
     "name": "stdout",
     "output_type": "stream",
     "text": [
      "Mean of shortest paths: 3.2\n",
      "Median: 3.2\n",
      "Frequence of impossible paths: 0.12 \n"
     ]
    }
   ],
   "source": [
    "d1_shortest_matrix = np.reshape(shortest_distance_matrix ,-1)\n",
    "plt.hist(d1_shortest_matrix, bins = 10, density = True)\n",
    "plt.xlabel(\"Number of steps\")\n",
    "plt.ylabel(\"Frequencies\")\n",
    "plt.title(\"Histogram of the possible paths\")\n",
    "plt.show()\n",
    "print(\"Mean of shortest paths: %.1f\" % (np.mean(d1_shortest_matrix[~np.isnan(d1_shortest_matrix)])))\n",
    "print(\"Median: %.1f\" % np.mean(d1_shortest_matrix[~np.isnan(d1_shortest_matrix)]))\n",
    "print(\"Frequence of impossible paths: %.2f \" %\n",
    "      (len(d1_shortest_matrix[np.isnan(d1_shortest_matrix)])/len(d1_shortest_matrix)))"
   ]
  },
  {
   "cell_type": "markdown",
   "id": "8df26993",
   "metadata": {},
   "source": [
    "### Articles dataset\n",
    "In order to associate path with names as the shortest path matrix in the same order as articles.\n",
    "\n",
    "We use the library urllib.parse in order to decode from URL.\n",
    "\n",
    "By using %%timeit, we notice a notable time difference in execution time when decoding from URL. \n",
    "\n",
    "We decide not to decode it straightaway but only when it is necessary (when we need to know the name of the article) as it is for now not necessary to decode the URL encoding for the names of the articles. "
   ]
  },
  {
   "cell_type": "code",
   "execution_count": 4,
   "id": "a878b779",
   "metadata": {},
   "outputs": [],
   "source": [
    "#%%timeit -r 1 -n 1\n",
    "\n",
    "with open(\"DATA/wikispeedia_paths-and-graph/articles.tsv\", \"r\", newline = '\\n') as f:\n",
    "    articles = [None]*number_of_words\n",
    "    articles_decoded = [None]*number_of_words\n",
    "    for i in range(12):\n",
    "        f.readline()\n",
    "    for i, line in enumerate(f):\n",
    "        articles_decoded[i] = urllib.parse.unquote(line.strip('\\n')) #Decoding \n",
    "        articles[i] = line.strip('\\n')"
   ]
  },
  {
   "cell_type": "code",
   "execution_count": 5,
   "id": "3e43b3d4",
   "metadata": {},
   "outputs": [
    {
     "name": "stdout",
     "output_type": "stream",
     "text": [
      "Fraction of the encoded words: 0.08\n"
     ]
    }
   ],
   "source": [
    "count = 0\n",
    "for i in range(number_of_words):\n",
    "    if articles[i] != articles_decoded[i]:\n",
    "        count += 1\n",
    "print(\"Fraction of the encoded words: %.2f\" % (count/number_of_words))\n",
    "    "
   ]
  },
  {
   "cell_type": "markdown",
   "id": "7f2745bd",
   "metadata": {},
   "source": [
    "### Website testing\n",
    "We make tests to see if the website is in adequation with our datas.\n",
    "https://www.sixdegreesofwikipedia.com/"
   ]
  },
  {
   "cell_type": "code",
   "execution_count": 6,
   "id": "d8708d6d",
   "metadata": {},
   "outputs": [
    {
     "name": "stdout",
     "output_type": "stream",
     "text": [
      "Example of article where minimum distance == 8\n",
      "16_Cygni\n",
      "Timken_1111\n",
      "\n",
      "\n",
      "Example of article where minimum distance doesn't exist\n",
      "Zulu\n",
      "Zara_Yaqob\n"
     ]
    }
   ],
   "source": [
    "#Raw cell as it was just to make tests\n",
    "a= np.where(shortest_distance_matrix==8)\n",
    "b = np.where(np.isnan(shortest_distance_matrix))\n",
    "print(\"Example of article where minimum distance == 8\")\n",
    "print(articles[a[0][0]])\n",
    "print(articles[a[1][0]])\n",
    "print(\"\\n\")\n",
    "print(\"Example of article where minimum distance doesn't exist\")\n",
    "print(articles[b[0][-1]])\n",
    "print(articles[b[1][-1]])"
   ]
  },
  {
   "cell_type": "markdown",
   "id": "98988e0d",
   "metadata": {},
   "source": [
    "For both of those examples, the website finds examples that are either shorter or existant. This makes sense as our datas are  only constituted of ~4600 articles, whereas theirs of ~6 million articles. \n",
    "\n",
    "One option is to reproduce the website code based on our datas.\n",
    "- https://github.com/jwngr/sdow/blob/master/.github/CONTRIBUTING.md\n",
    "- https://github.com/jwngr/sdow/blob/master/docs/data-source.md\n",
    "- https://github.com/jwngr/sdow/blob/master/scripts/create_mock_databases.py\n",
    "\n",
    "Based on the above links this option seems very plausible. \n",
    "\n",
    "A second option is to create our own optimal path algorithm."
   ]
  },
  {
   "cell_type": "markdown",
   "id": "e21d730e",
   "metadata": {},
   "source": [
    "### 'paths finished' data\n",
    "In order to analyze the players behaviour"
   ]
  },
  {
   "cell_type": "code",
   "execution_count": 7,
   "id": "9e25a70d",
   "metadata": {},
   "outputs": [],
   "source": [
    "import pandas as pd \n",
    "paths_finished = pd.read_csv(\"DATA/wikispeedia_paths-and-graph/paths_finished.tsv\", \n",
    "                             sep = '\\t', skiprows = 16, usecols = [3], names = ['paths'])"
   ]
  },
  {
   "cell_type": "markdown",
   "id": "8856b16a",
   "metadata": {},
   "source": [
    "### Categories data\n",
    "In order to infer a categorie favored by the players.\n",
    "\n",
    "Many articles have several categories, some have none. "
   ]
  },
  {
   "cell_type": "code",
   "execution_count": 8,
   "id": "9ce6d5f7",
   "metadata": {},
   "outputs": [
    {
     "name": "stdout",
     "output_type": "stream",
     "text": [
      "There's 129 categories\n",
      "\n",
      "Max is subject.Countries with 229\n",
      "Min is subject.Art.Artists with 2\n",
      "Median is at 27\n",
      "Mean is at 40\n",
      "Categories ranked by number of article they contain:\n",
      "\n",
      "                                                    article\n",
      "category                                                   \n",
      "subject.Countries                                       229\n",
      "subject.Science.Biology.Birds                           161\n",
      "subject.Geography.Geography_of_Great_Britain            124\n",
      "subject.Science.Chemistry.Chemical_elements             119\n",
      "subject.Science.Biology.Mammals                         114\n",
      "...                                                     ...\n",
      "subject.Geography.Antarctica                              8\n",
      "subject.People.Chemists                                   8\n",
      "subject.People.Producers_directors_and_media_fi...        8\n",
      "subject.IT.Cryptography                                   6\n",
      "subject.Art.Artists                                       2\n",
      "\n",
      "[129 rows x 1 columns]\n"
     ]
    },
    {
     "data": {
      "image/png": "[encoded data removed]",
      "text/plain": [
       "<Figure size 576x432 with 2 Axes>"
      ]
     },
     "metadata": {},
     "output_type": "display_data"
    }
   ],
   "source": [
    "categories = pd.read_csv(\"DATA/wikispeedia_paths-and-graph/categories.tsv\",\n",
    "                         sep = '\\t', skiprows = 13, names = ['article', 'category'])\n",
    "#print(nb_by_cat)\n",
    "\n",
    "nb_by_cat = categories.groupby('category').count()\n",
    "fig, ax = plt.subplots(nrows = 1, ncols = 2, figsize= (8,6))\n",
    "fig.tight_layout(pad = 5)\n",
    "fig.suptitle('Number of articles per category', fontsize = 17)\n",
    "\n",
    "ax[1].hist(nb_by_cat, bins = 50, density = True)\n",
    "ax[0].boxplot(nb_by_cat)\n",
    "ax[1].set_title(\"Histogram\")\n",
    "ax[0].set_title(\"Boxplot\")\n",
    "ax[1].set_xlabel('Number of articles in a category')\n",
    "ax[1].set_ylabel('Frequencies')\n",
    "ax[0].set_xticks([])\n",
    "ax[1].set_xlim([0,150])\n",
    "\n",
    "print(\"There's %d categories\\n\" % len(nb_by_cat))\n",
    "print(\"Max is %s with %d\\nMin is %s with %d\\nMedian is at %d\\nMean is at %d\" % \n",
    "      (nb_by_cat['article'].idxmax(), max(nb_by_cat['article']),nb_by_cat['article'].idxmin(), \n",
    "       min(nb_by_cat['article']),nb_by_cat['article'].median(), nb_by_cat['article'].mean()))\n",
    "\n",
    "\n",
    "pd.set_option('display.max_columns', 10)\n",
    "pd.set_option('display.max_rows', 10)\n",
    "print(\"Categories ranked by number of article they contain:\\n\")\n",
    "print(nb_by_cat.sort_values('article', ascending = False))"
   ]
  },
  {
   "cell_type": "markdown",
   "id": "2089126e",
   "metadata": {},
   "source": [
    "### Hashing implementation\n",
    "****\n",
    "In order to reduce the computation time of the analysis of the paths, hashing will be interessant,\n"
   ]
  },
  {
   "cell_type": "code",
   "execution_count": 9,
   "id": "00651aeb",
   "metadata": {},
   "outputs": [
    {
     "name": "stdout",
     "output_type": "stream",
     "text": [
      "Åland\n",
      "2568\n",
      "Comoros\n",
      "4229\n",
      "Honey_bee\n",
      "5984\n",
      "Noam_Chomsky\n",
      "10089\n",
      "Tarragon\n",
      "5095\n"
     ]
    }
   ],
   "source": [
    "## HASHING \n",
    "#To be finished\n",
    "def hash_function(key):\n",
    "    return sum(index * ord(character) for index, character in enumerate(repr(key), start=1))\n",
    "\n",
    "for i, art in enumerate(articles_decoded):\n",
    "    if i in np.arange(1,4604,1000):\n",
    "        print(art)\n",
    "        print(hash_function(art))"
   ]
  },
  {
   "cell_type": "markdown",
   "id": "2d13d136",
   "metadata": {},
   "source": [
    "### Analysis of the paths\n",
    "***\n",
    "When we look for certains user's paths length average, we want to get the index of the intial and final words to obtain the comparison with optimal length. \n",
    "\n",
    "Assuming we ignore when they go back.\n",
    "\n",
    "The words need to be accessible for later"
   ]
  },
  {
   "cell_type": "code",
   "execution_count": null,
   "id": "bcaecdf6",
   "metadata": {},
   "outputs": [],
   "source": [
    "#While hashing not finish, we write our results in a .csv in order to get them more quickly \n",
    "\n",
    "def paths_to_csv(step):\n",
    "    with open('DATA/paths_finished.csv', 'w') as f:\n",
    "        len_paths = [0]*len(paths_finished)\n",
    "        header = ['index_initial', 'index_final','length', 'path']\n",
    "        writer = csv.writer(f)\n",
    "        writer.writerow(header)\n",
    "        for j in trange(0,len(paths_finished),step):\n",
    "        \n",
    "            each_word_list = paths_finished['paths'][j].replace(';<;', '').split(';') #Replace to ignore when they go back\n",
    "            \n",
    "            index_initial = np.nan\n",
    "            index_final = np.nan\n",
    "            \n",
    "            for i, art in enumerate(articles):\n",
    "                if each_word_list[0] == art:\n",
    "                    index_initial = i\n",
    "                elif each_word_list[-1] == art:\n",
    "                    index_final = i\n",
    "                elif not np.isnan(index_final) and not np.isnan(index_initial):\n",
    "                    break \n",
    "                    \n",
    "            to_write = [index_initial, index_final, len(each_word_list)]\n",
    "            for word in each_word_list:\n",
    "                to_write.append(word)\n",
    "            writer.writerow(to_write)\n",
    "    return 0\n",
    "\n",
    "\n",
    "grandeur = paths_to_csv(1)   \n",
    "    \n",
    "    \n",
    "    #print(\"Beginning: %s \\t End: %s\" % (each_word[0], each_word[-1]))\n",
    "    #print(\"Length of the path: %15d\" % int(len(each_word)))\n",
    "    #print(\"Length of the optimal path: %7d\"  % shortest_distance_matrix[index_initial, index_final])"
   ]
  },
  {
   "cell_type": "raw",
   "id": "8f473bd6",
   "metadata": {},
   "source": [
    "A AJOUTER LENGTH OF PATHS DANS MON BAIL, IL FAUT JUSTE RERUN LE BAIL, juste check avec un step de 10"
   ]
  },
  {
   "cell_type": "code",
   "execution_count": 14,
   "id": "46a1755c",
   "metadata": {},
   "outputs": [
    {
     "name": "stdout",
     "output_type": "stream",
     "text": [
      "10,143,14th_century,15th_century,16th_century,Pacific_Ocean,Atlantic_Ocean,Accra,Africa,Atlantic_slave_trade,African_slave_trade\n",
      "\n",
      "10,143,14th_century,Europe,Africa,Atlantic_slave_trade,African_slave_trade\n",
      "\n",
      "10,143,14th_century,Niger,Nigeria,British_Empire,Slavery,Africa,Atlantic_slave_trade,African_slave_trade\n",
      "\n",
      "10,1793,14th_century,Renaissance,Ancient_Greece,Greece\n",
      "\n",
      "10,2266,14th_century,Italy,Roman_Catholic_Church,HIV,Ronald_Reagan,President_of_the_United_States,John_F._Kennedy\n",
      "\n",
      "10,2266,14th_century,Europe,North_America,United_States,President_of_the_United_States,John_F._Kennedy\n",
      "\n",
      "10,1511,14th_century,China,Gunpowder,Fire\n",
      "\n",
      "10,3425,14th_century,Time,Isaac_Newton,Light,Color,Rainbow\n",
      "\n",
      "10,3425,14th_century,Time,Light,Rainbow\n",
      "\n",
      "10,3425,14th_century,15th_century,Plato,Nature,Ultraviolet,Color,Rainbow\n",
      "\n"
     ]
    }
   ],
   "source": [
    "with open('DATA/paths_finished.csv', 'r') as f:\n",
    "    arr = np.array([])\n",
    "    f.readline()\n",
    "    k = 0\n",
    "    for i in range(10): \n",
    "        if f.readline == \"\":\n",
    "            break \n",
    "        else: \n",
    "            a = f.readline()\n",
    "            print(a)\n",
    "        \n",
    "        \n",
    "        \n",
    "        "
   ]
  },
  {
   "cell_type": "code",
   "execution_count": null,
   "id": "70f8bd25",
   "metadata": {},
   "outputs": [],
   "source": [
    "print(arr[0:10])"
   ]
  },
  {
   "cell_type": "code",
   "execution_count": 11,
   "id": "deae1b5e",
   "metadata": {},
   "outputs": [
    {
     "ename": "NameError",
     "evalue": "name 'len_paths' is not defined",
     "output_type": "error",
     "traceback": [
      "Traceback \u001b[0;36m(most recent call last)\u001b[0m:\n",
      "\u001b[0;36m  File \u001b[0;32m\"/tmp/ipykernel_53068/2281230385.py\"\u001b[0;36m, line \u001b[0;32m5\u001b[0;36m, in \u001b[0;35m<module>\u001b[0;36m\u001b[0m\n\u001b[0;31m    ax[0,0].hist(len_paths, bins = 10, density = True)\u001b[0m\n",
      "\u001b[0;31mNameError\u001b[0m\u001b[0;31m:\u001b[0m name 'len_paths' is not defined\n"
     ]
    },
    {
     "data": {
      "image/png": "[encoded data removed]",
      "text/plain": [
       "<Figure size 720x576 with 4 Axes>"
      ]
     },
     "metadata": {},
     "output_type": "display_data"
    }
   ],
   "source": [
    "fig, ax = plt.subplots(nrows = 2, ncols = 2, figsize= (10, 8))\n",
    "fig.tight_layout(pad = 5)\n",
    "fig.suptitle('Length of the paths played', fontsize = 20)\n",
    "\n",
    "ax[0,0].hist(len_paths, bins = 10, density = True)\n",
    "ax[0,1].hist(np.log10(len_paths), bins = 50, density = True )\n",
    "ax[1,0].boxplot(len_paths)\n",
    "ax[1,1].boxplot(np.log10(len_paths))\n",
    "ax[0,0].set_title(\"Histogram of lengths\")\n",
    "ax[0,1].set_title(\"Histogram of log-lengths\")\n",
    "ax[1,0].set_title(\"Boxplot of lengths\")\n",
    "ax[1,1].set_title(\"Boxpot of log-lengths\")\n",
    "\n",
    "ax[0,0].set_xlabel('Number of articles in a category')\n",
    "ax[0,0].set_ylabel('Frequencies')\n",
    "ax[1,0].set_xticks([])\n",
    "ax[1,1].set_xticks([]);\n",
    "\n",
    "print(\"Max %f\" % max(paths_finished) )"
   ]
  },
  {
   "cell_type": "code",
   "execution_count": 160,
   "id": "1f04f9a9",
   "metadata": {},
   "outputs": [
    {
     "name": "stdout",
     "output_type": "stream",
     "text": [
      "51318\n"
     ]
    }
   ],
   "source": []
  }
 ],
 "metadata": {
  "kernelspec": {
   "display_name": "Python 3 (Spyder)",
   "language": "python3",
   "name": "python3"
  },
  "language_info": {
   "codemirror_mode": {
    "name": "ipython",
    "version": 3
   },
   "file_extension": ".py",
   "mimetype": "text/x-python",
   "name": "python",
   "nbconvert_exporter": "python",
   "pygments_lexer": "ipython3",
   "version": "3.10.4"
  }
 },
 "nbformat": 4,
 "nbformat_minor": 5
}
