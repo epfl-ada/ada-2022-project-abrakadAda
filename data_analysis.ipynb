{
 "cells": [
  {
   "cell_type": "code",
   "execution_count": null,
   "metadata": {},
   "outputs": [],
   "source": [
    "#Import necessary librairies\n",
    "\n",
    "import os\n",
    "import numpy as np\n",
    "import pandas as pd\n",
    "from bs4 import BeautifulSoup\n",
    "import matplotlib.pyplot as plt\n",
    "from tqdm import tqdm\n",
    "from urllib.parse import unquote\n",
    "import lxml"
   ]
  },
  {
   "cell_type": "code",
   "execution_count": null,
   "metadata": {},
   "outputs": [],
   "source": [
    "#directories of data\n",
    "\n",
    "dir_html_articles = r'..\\data\\wikispeedia_articles_html\\wpcd\\wp'\n",
    "dir_finished_path = r\"..\\data\\wikispeedia_paths-and-graph\\wikispeedia_paths-and-graph\\paths_finished.tsv\"\n",
    "dir_unfinished_path = r\"..\\data\\wikispeedia_paths-and-graph\\wikispeedia_paths-and-graph\\paths_unfinished.tsv\"\n"
   ]
  }
 ],
 "metadata": {
  "kernelspec": {
   "display_name": "Python 3.8.6 64-bit",
   "language": "python",
   "name": "python3"
  },
  "language_info": {
   "name": "python",
   "version": "3.8.6"
  },
  "orig_nbformat": 4,
  "vscode": {
   "interpreter": {
    "hash": "8c07b07e2bb06fdb74ab284ff6c3ce5237ee1192941a1203001146ee06d7d9a6"
   }
  }
 },
 "nbformat": 4,
 "nbformat_minor": 2
}
