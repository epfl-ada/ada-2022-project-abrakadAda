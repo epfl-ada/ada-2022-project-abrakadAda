{
 "cells": [
  {
   "cell_type": "code",
   "execution_count": 2,
   "metadata": {},
   "outputs": [],
   "source": [
    "import os\n",
    "import numpy as np\n",
    "import pandas as pd\n",
    "from bs4 import BeautifulSoup\n",
    "import matplotlib.pyplot as plt\n",
    "from tqdm import tqdm\n",
    "from urllib.parse import unquote\n",
    "import lxml"
   ]
  },
  {
   "cell_type": "code",
   "execution_count": 3,
   "metadata": {},
   "outputs": [],
   "source": [
    "def verify(element):\n",
    "    if element is None:\n",
    "        return True\n",
    "    if element.get('href') is None:\n",
    "        return True\n",
    "    if element.get('href')[-7:-4] == 'jpg' or element.get('href')[-7:-4] == 'png':\n",
    "        return True\n",
    "    return False\n",
    "\n",
    "def links_name(link):\n",
    "    link_name = ''\n",
    "    if link.text != '':\n",
    "        if link.get('title') != None:\n",
    "            link_name = link.get('title')\n",
    "        else: \n",
    "            link_name = link.text\n",
    "    return link_name\n",
    "\n",
    "def link_par_position(page, link):\n",
    "    par_occurences = np.array(0)\n",
    "    for i in range(globals()['count_%s'%page.replace(' ', '_')]):\n",
    "        if link in globals()['infobox_%s'%(page.replace(' ', '_'))]:\n",
    "            par_occurences = 0\n",
    "            break\n",
    "        if link in globals()['par_%s_%s'%(page.replace(' ', '_'), i)]:\n",
    "            par_occurences = i\n",
    "    return par_occurences\n",
    "\n",
    "def search_link(path_link, article_links):\n",
    "    index = article_links.index(path_link)    \n",
    "    return index\n",
    "\n",
    "def link_clicked(path_dataframe, links_dataframe):\n",
    "    link_numbers = []\n",
    "    for links in tqdm(path_dataframe['path']):\n",
    "        if len(links) <2:\n",
    "            continue\n",
    "        names = []\n",
    "        links = links.split(\";\")\n",
    "        links_def = [x.replace('_', ' ') for x in links]\n",
    "        if '<' in links_def:\n",
    "            continue #\n",
    "        for i in range(len(links_def)-1):   \n",
    "            names = list(links_dataframe.loc[links_dataframe['pagename'] == links_def[i].replace(' ', '_'), 'link'])\n",
    "            try:\n",
    "                index = search_link(unquote(links_def[i+1]), names[0])\n",
    "            except ValueError:\n",
    "                continue #check this later\n",
    "            link_numbers.append(index)\n",
    "    return link_numbers\n"
   ]
  },
  {
   "cell_type": "code",
   "execution_count": 14,
   "metadata": {},
   "outputs": [
    {
     "ename": "FileNotFoundError",
     "evalue": "[WinError 3] Le chemin d’accès spécifié est introuvable: '..\\\\..\\\\data\\\\wikispeedia_articles_html\\\\wpcd\\\\wp'",
     "output_type": "error",
     "traceback": [
      "\u001b[1;31m---------------------------------------------------------------------------\u001b[0m",
      "\u001b[1;31mFileNotFoundError\u001b[0m                         Traceback (most recent call last)",
      "Cell \u001b[1;32mIn [14], line 5\u001b[0m\n\u001b[0;32m      1\u001b[0m directory \u001b[39m=\u001b[39m \u001b[39mr\u001b[39m\u001b[39m'\u001b[39m\u001b[39m..\u001b[39m\u001b[39m\\\u001b[39m\u001b[39m..\u001b[39m\u001b[39m\\\u001b[39m\u001b[39mdata\u001b[39m\u001b[39m\\\u001b[39m\u001b[39mwikispeedia_articles_html\u001b[39m\u001b[39m\\\u001b[39m\u001b[39mwpcd\u001b[39m\u001b[39m\\\u001b[39m\u001b[39mwp\u001b[39m\u001b[39m'\u001b[39m\n\u001b[0;32m      2\u001b[0m link_DF \u001b[39m=\u001b[39m pd\u001b[39m.\u001b[39mDataFrame(columns \u001b[39m=\u001b[39m [\u001b[39m'\u001b[39m\u001b[39mpagename\u001b[39m\u001b[39m'\u001b[39m, \u001b[39m'\u001b[39m\u001b[39mlink \u001b[39m\u001b[39m'\u001b[39m, \u001b[39m'\u001b[39m\u001b[39mnumber\u001b[39m\u001b[39m'\u001b[39m])\n\u001b[1;32m----> 5\u001b[0m \u001b[39mfor\u001b[39;00m filename \u001b[39min\u001b[39;00m tqdm(os\u001b[39m.\u001b[39;49mlistdir(directory)):\n\u001b[0;32m      6\u001b[0m     f \u001b[39m=\u001b[39m os\u001b[39m.\u001b[39mpath\u001b[39m.\u001b[39mjoin(directory, filename)\n\u001b[0;32m      7\u001b[0m     \u001b[39mfor\u001b[39;00m filename_2 \u001b[39min\u001b[39;00m os\u001b[39m.\u001b[39mlistdir(f):\n",
      "\u001b[1;31mFileNotFoundError\u001b[0m: [WinError 3] Le chemin d’accès spécifié est introuvable: '..\\\\..\\\\data\\\\wikispeedia_articles_html\\\\wpcd\\\\wp'"
     ]
    }
   ],
   "source": [
    "directory = r'..\\..\\data\\wikispeedia_articles_html\\wpcd\\wp'\n",
    "link_DF = pd.DataFrame(columns = ['pagename', 'link ', 'number'])\n",
    "\n",
    "\n",
    "for filename in tqdm(os.listdir(directory)):\n",
    "    f = os.path.join(directory, filename)\n",
    "    for filename_2 in os.listdir(f):\n",
    "        g = os.path.join(f, filename_2)\n",
    "\n",
    "        print(g)\n",
    "        pagename = g.split(\"/\")[5]\n",
    "        print(pagename)\n",
    "        if pagename.split('.')[1] == 'jpg':\n",
    "            continue\n",
    "        pagename = pagename[:-4]\n",
    "        \n",
    "        with open(g, 'rb') as fp:\n",
    "            soup = BeautifulSoup(fp, 'lxml', from_encoding=\"utf-8\")\n",
    "\n",
    "        count = 0\n",
    "        counts = []\n",
    "        pagenames = []\n",
    "        link_name = []\n",
    "        for link in soup.find_all('a'):  \n",
    "            if verify(link):\n",
    "                continue \n",
    "\n",
    "            if link.text != '':\n",
    "                if link.get('title') != None:\n",
    "                    link_name.append(link.get('title'))\n",
    "                else: \n",
    "                    link_name.append(link.text)\n",
    "            counts.append(count)\n",
    "            pagenames.append(pagename)\n",
    "            count+=1\n",
    "        df_list = pd.DataFrame([[pagename, link_name, count]], columns = ['pagename', 'link', 'number'])\n",
    "        link_DF = pd.concat([link_DF, df_list], ignore_index=True)\n",
    "        \n",
    "\n",
    "\n",
    "        "
   ]
  },
  {
   "cell_type": "code",
   "execution_count": 1,
   "metadata": {},
   "outputs": [
    {
     "ename": "NameError",
     "evalue": "name 'pd' is not defined",
     "output_type": "error",
     "traceback": [
      "\u001b[1;31m---------------------------------------------------------------------------\u001b[0m",
      "\u001b[1;31mNameError\u001b[0m                                 Traceback (most recent call last)",
      "Cell \u001b[1;32mIn [1], line 3\u001b[0m\n\u001b[0;32m      1\u001b[0m directory1 \u001b[39m=\u001b[39m \u001b[39mr\u001b[39m\u001b[39m\"\u001b[39m\u001b[39m..\u001b[39m\u001b[39m\\\u001b[39m\u001b[39mdata\u001b[39m\u001b[39m\\\u001b[39m\u001b[39mwikispeedia_paths-and-graph\u001b[39m\u001b[39m\\\u001b[39m\u001b[39mwikispeedia_paths-and-graph\u001b[39m\u001b[39m\\\u001b[39m\u001b[39mpaths_finished.csv\u001b[39m\u001b[39m\"\u001b[39m\n\u001b[0;32m      2\u001b[0m directory2 \u001b[39m=\u001b[39m \u001b[39mr\u001b[39m\u001b[39m\"\u001b[39m\u001b[39m..\u001b[39m\u001b[39m\\\u001b[39m\u001b[39mdata\u001b[39m\u001b[39m\\\u001b[39m\u001b[39mproject\u001b[39m\u001b[39m\\\u001b[39m\u001b[39mwikispeedia_paths-and-graph\u001b[39m\u001b[39m\\\u001b[39m\u001b[39mwikispeedia_paths-and-graph\u001b[39m\u001b[39m\\\u001b[39m\u001b[39mpaths_unfinished.csv\u001b[39m\u001b[39m\"\u001b[39m\n\u001b[1;32m----> 3\u001b[0m path_finished \u001b[39m=\u001b[39m pd\u001b[39m.\u001b[39mread_csv(directory1, sep \u001b[39m=\u001b[39m \u001b[39m'\u001b[39m\u001b[39m;\u001b[39m\u001b[39m'\u001b[39m, encoding\u001b[39m=\u001b[39m\u001b[39m\"\u001b[39m\u001b[39miso-8859-1\u001b[39m\u001b[39m\"\u001b[39m)\n\u001b[0;32m      4\u001b[0m path_unfinished \u001b[39m=\u001b[39m pd\u001b[39m.\u001b[39mread_csv(directory2, sep \u001b[39m=\u001b[39m \u001b[39m'\u001b[39m\u001b[39m;\u001b[39m\u001b[39m'\u001b[39m)\n",
      "\u001b[1;31mNameError\u001b[0m: name 'pd' is not defined"
     ]
    }
   ],
   "source": [
    "directory1 = r\"..\\data\\wikispeedia_paths-and-graph\\wikispeedia_paths-and-graph\\paths_finished.csv\"\n",
    "directory2 = r\"..\\data\\project\\wikispeedia_paths-and-graph\\wikispeedia_paths-and-graph\\paths_unfinished.csv\"\n",
    "path_finished = pd.read_csv(directory1, sep = ';', encoding=\"iso-8859-1\")\n",
    "path_unfinished = pd.read_csv(directory2, sep = ';')\n"
   ]
  },
  {
   "cell_type": "code",
   "execution_count": 136,
   "metadata": {},
   "outputs": [
    {
     "name": "stderr",
     "output_type": "stream",
     "text": [
      "100%|██████████| 51318/51318 [05:39<00:00, 151.27it/s]\n",
      "100%|██████████| 24875/24875 [01:32<00:00, 268.73it/s]\n"
     ]
    },
    {
     "data": {
      "text/plain": [
       "'\\nfor links in tqdm(path_finished[\\'path\\']):\\n\\n    names = []\\n    links = links.split(\";\")\\n    links_def = [x.replace(\\'_\\', \\' \\') for x in links]\\n    if \\'<\\' in links_def:\\n        continue\\n\\n\\n    for i in range(len(links_def)-1):   \\n        names = list(link_DF.loc[link_DF[\\'pagename\\'] == links_def[i].replace(\\' \\', \\'_\\'), \\'link\\'])\\n        try:\\n            index = search_link(unquote(links_def[i+1]), names[0])\\n        except ValueError:\\n            continue #check this later\\n        link_numbers_f.append(index)\\n'"
      ]
     },
     "execution_count": 136,
     "metadata": {},
     "output_type": "execute_result"
    }
   ],
   "source": [
    "#Finished paths link clicked  number\n",
    "\n",
    "link_numbers_f = link_clicked(path_finished, link_DF)\n",
    "link_numbers_u = link_clicked(path_unfinished, link_DF)\n",
    "'''\n",
    "for links in tqdm(path_finished['path']):\n",
    "\n",
    "    names = []\n",
    "    links = links.split(\";\")\n",
    "    links_def = [x.replace('_', ' ') for x in links]\n",
    "    if '<' in links_def:\n",
    "        continue\n",
    "\n",
    "\n",
    "    for i in range(len(links_def)-1):   \n",
    "        names = list(link_DF.loc[link_DF['pagename'] == links_def[i].replace(' ', '_'), 'link'])\n",
    "        try:\n",
    "            index = search_link(unquote(links_def[i+1]), names[0])\n",
    "        except ValueError:\n",
    "            continue #check this later\n",
    "        link_numbers_f.append(index)\n",
    "'''\n"
   ]
  },
  {
   "cell_type": "code",
   "execution_count": 143,
   "metadata": {},
   "outputs": [
    {
     "name": "stdout",
     "output_type": "stream",
     "text": [
      "statistics path finished count    195717.000000\n",
      "mean         29.162234\n",
      "std          40.799066\n",
      "min           1.000000\n",
      "25%           6.000000\n",
      "50%          15.000000\n",
      "75%          34.000000\n",
      "max         464.000000\n",
      "dtype: float64\n",
      "statistics path unfinished count    53076.000000\n",
      "mean        25.526113\n",
      "std         36.811907\n",
      "min          1.000000\n",
      "25%          5.000000\n",
      "50%         13.000000\n",
      "75%         30.000000\n",
      "max        396.000000\n",
      "dtype: float64\n"
     ]
    },
    {
     "data": {
      "text/plain": [
       "(array([   0.,  187., 3927., 3520., 3090., 2656., 2582., 2109., 1859.,\n",
       "        1558., 1510., 1717., 1475., 1265., 1198., 1138., 1167.,  952.,\n",
       "         754., 1491.]),\n",
       " array([ 0.,  1.,  2.,  3.,  4.,  5.,  6.,  7.,  8.,  9., 10., 11., 12.,\n",
       "        13., 14., 15., 16., 17., 18., 19., 20.]),\n",
       " <BarContainer object of 20 artists>)"
      ]
     },
     "execution_count": 143,
     "metadata": {},
     "output_type": "execute_result"
    },
    {
     "data": {
      "image/png": "[encoded data removed]",
      "text/plain": [
       "<Figure size 640x480 with 1 Axes>"
      ]
     },
     "metadata": {},
     "output_type": "display_data"
    },
    {
     "data": {
      "image/png": "[encoded data removed]",
      "text/plain": [
       "<Figure size 640x480 with 1 Axes>"
      ]
     },
     "metadata": {},
     "output_type": "display_data"
    }
   ],
   "source": [
    "y = pd.Series(link_numbers_f).describe()\n",
    "z = pd.Series(link_numbers_u).describe()\n",
    "\n",
    "print('statistics path finished', y)\n",
    "\n",
    "print('statistics path unfinished', z)\n",
    "\n",
    "test_f = [x for x in link_numbers_f if x<20]\n",
    "test_u = [x for x in link_numbers_u if x<20]\n",
    "\n",
    "plt.figure()\n",
    "plt.hist(link_numbers_f, bins = np.arange(21))\n",
    "\n",
    "plt.figure()\n",
    "plt.hist(link_numbers_u, bins = np.arange(21))\n",
    "\n",
    "#plt.hist(link_numbers[:i], bins = np.arange(max(link_DF['number'])))    "
   ]
  },
  {
   "cell_type": "markdown",
   "metadata": {},
   "source": [
    "# Statistics of clicked links:\n",
    "    - number of links\n",
    "\n",
    "##"
   ]
  },
  {
   "cell_type": "code",
   "execution_count": 123,
   "metadata": {},
   "outputs": [
    {
     "data": {
      "text/plain": [
       "count    195780.000000\n",
       "mean         29.156696\n",
       "std          40.794048\n",
       "min           1.000000\n",
       "25%           6.000000\n",
       "50%          15.000000\n",
       "75%          34.000000\n",
       "max         464.000000\n",
       "dtype: float64"
      ]
     },
     "execution_count": 123,
     "metadata": {},
     "output_type": "execute_result"
    }
   ],
   "source": [
    "z"
   ]
  },
  {
   "cell_type": "code",
   "execution_count": null,
   "metadata": {},
   "outputs": [],
   "source": []
  }
 ],
 "metadata": {
  "kernelspec": {
   "display_name": "Python 3.9.13 ('ada': conda)",
   "language": "python",
   "name": "python3"
  },
  "language_info": {
   "codemirror_mode": {
    "name": "ipython",
    "version": 3
   },
   "file_extension": ".py",
   "mimetype": "text/x-python",
   "name": "python",
   "nbconvert_exporter": "python",
   "pygments_lexer": "ipython3",
   "version": "3.9.13"
  },
  "orig_nbformat": 4,
  "vscode": {
   "interpreter": {
    "hash": "ddd90b102f996f8aa4d9bab0ef071a1b5519621124b2bab960dbe4b849610fde"
   }
  }
 },
 "nbformat": 4,
 "nbformat_minor": 2
}
