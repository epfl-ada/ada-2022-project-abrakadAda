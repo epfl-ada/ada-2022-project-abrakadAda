{
 "cells": [
  {
   "cell_type": "code",
   "execution_count": 5,
   "metadata": {},
   "outputs": [],
   "source": [
    "from collections import deque\n",
    "import pandas as pd\n",
    "import networkx as nx\n",
    "import matplotlib.pyplot as plt"
   ]
  },
  {
   "cell_type": "code",
   "execution_count": 2,
   "metadata": {},
   "outputs": [
    {
     "data": {
      "text/html": [
       "<div>\n",
       "<style scoped>\n",
       "    .dataframe tbody tr th:only-of-type {\n",
       "        vertical-align: middle;\n",
       "    }\n",
       "\n",
       "    .dataframe tbody tr th {\n",
       "        vertical-align: top;\n",
       "    }\n",
       "\n",
       "    .dataframe thead th {\n",
       "        text-align: right;\n",
       "    }\n",
       "</style>\n",
       "<table border=\"1\" class=\"dataframe\">\n",
       "  <thead>\n",
       "    <tr style=\"text-align: right;\">\n",
       "      <th></th>\n",
       "      <th>page</th>\n",
       "      <th>link</th>\n",
       "    </tr>\n",
       "  </thead>\n",
       "  <tbody>\n",
       "    <tr>\n",
       "      <th>0</th>\n",
       "      <td>Áedán mac Gabráin</td>\n",
       "      <td>Dál Riata</td>\n",
       "    </tr>\n",
       "    <tr>\n",
       "      <th>1</th>\n",
       "      <td>Áedán mac Gabráin</td>\n",
       "      <td>Kingdom</td>\n",
       "    </tr>\n",
       "    <tr>\n",
       "      <th>2</th>\n",
       "      <td>Áedán mac Gabráin</td>\n",
       "      <td>Scotland</td>\n",
       "    </tr>\n",
       "    <tr>\n",
       "      <th>3</th>\n",
       "      <td>Áedán mac Gabráin</td>\n",
       "      <td>Ireland</td>\n",
       "    </tr>\n",
       "    <tr>\n",
       "      <th>4</th>\n",
       "      <td>Áedán mac Gabráin</td>\n",
       "      <td>Columba</td>\n",
       "    </tr>\n",
       "    <tr>\n",
       "      <th>...</th>\n",
       "      <td>...</td>\n",
       "      <td>...</td>\n",
       "    </tr>\n",
       "    <tr>\n",
       "      <th>185487</th>\n",
       "      <td>ZX Spectrum</td>\n",
       "      <td>Romania</td>\n",
       "    </tr>\n",
       "    <tr>\n",
       "      <th>185488</th>\n",
       "      <td>ZX Spectrum</td>\n",
       "      <td>Brazil</td>\n",
       "    </tr>\n",
       "    <tr>\n",
       "      <th>185489</th>\n",
       "      <td>ZX Spectrum</td>\n",
       "      <td>Nintendo</td>\n",
       "    </tr>\n",
       "    <tr>\n",
       "      <th>185490</th>\n",
       "      <td>ZX Spectrum</td>\n",
       "      <td>Jet Set Willy</td>\n",
       "    </tr>\n",
       "    <tr>\n",
       "      <th>185491</th>\n",
       "      <td>ZX Spectrum</td>\n",
       "      <td>Image:ZX Rebelstar 2.png</td>\n",
       "    </tr>\n",
       "  </tbody>\n",
       "</table>\n",
       "<p>132815 rows × 2 columns</p>\n",
       "</div>"
      ],
      "text/plain": [
       "                     page                      link\n",
       "0       Áedán mac Gabráin                 Dál Riata\n",
       "1       Áedán mac Gabráin                   Kingdom\n",
       "2       Áedán mac Gabráin                  Scotland\n",
       "3       Áedán mac Gabráin                   Ireland\n",
       "4       Áedán mac Gabráin                   Columba\n",
       "...                   ...                       ...\n",
       "185487        ZX Spectrum                   Romania\n",
       "185488        ZX Spectrum                    Brazil\n",
       "185489        ZX Spectrum                  Nintendo\n",
       "185490        ZX Spectrum             Jet Set Willy\n",
       "185491        ZX Spectrum  Image:ZX Rebelstar 2.png\n",
       "\n",
       "[132815 rows x 2 columns]"
      ]
     },
     "execution_count": 2,
     "metadata": {},
     "output_type": "execute_result"
    }
   ],
   "source": [
    "links_in_pages = pd.read_pickle('data/links_in_pages_DF.pkl')\n",
    "lip = links_in_pages.drop_duplicates(subset = ['page', 'link'])\n",
    "\n",
    "lip = lip[['page', 'link']]\n",
    "data_grouped = lip.groupby(\"page\")\n",
    "# Create a dictionary from each group, with the page name as the key\n",
    "data_dict = data_grouped.apply(lambda x: {x.name: x[\"link\"].tolist()})\n",
    "\n",
    "dict_data = {}\n",
    "for key in data_dict:\n",
    "    dict_data.update(key)\n",
    "\n",
    "lip"
   ]
  },
  {
   "cell_type": "code",
   "execution_count": 3,
   "metadata": {},
   "outputs": [
    {
     "name": "stdout",
     "output_type": "stream",
     "text": [
      "DiGraph with 13235 nodes and 132815 edges\n"
     ]
    }
   ],
   "source": [
    "D = nx.DiGraph()\n",
    "D.add_nodes_from(dict_data.keys())\n",
    "\n",
    "for key in dict_data.keys():\n",
    "    for item in dict_data[key]:\n",
    "        D.add_edge(key, item)\n",
    "\n",
    "print(D)"
   ]
  },
  {
   "cell_type": "code",
   "execution_count": 161,
   "metadata": {},
   "outputs": [
    {
     "name": "stdout",
     "output_type": "stream",
     "text": [
      "there are 10 shortest paths of lenght 5, and one one them is \n",
      " ['Áedán mac Gabráin', 'Scotland', 'England', 'Drum and bass', 'Bob Marley']\n"
     ]
    }
   ],
   "source": [
    "if nx.has_path(D,'Áedán mac Gabráin', 'Bob Marley'):\n",
    "    test = nx.all_shortest_paths(D, 'Áedán mac Gabráin', 'Bob Marley')\n",
    "    paths = [p for p in test]\n",
    "    print('there are %s shortest paths of lenght %s, and one one them is \\n %s'% (len(paths), len(paths[0]), paths[0]))\n",
    "else: print('no path')"
   ]
  },
  {
   "cell_type": "code",
   "execution_count": 162,
   "metadata": {},
   "outputs": [],
   "source": [
    "nx.write_gexf(D, ('data/page_graphs.gexf'))"
   ]
  },
  {
   "cell_type": "code",
   "execution_count": null,
   "metadata": {},
   "outputs": [],
   "source": []
  }
 ],
 "metadata": {
  "kernelspec": {
   "display_name": "Python 3 (ipykernel)",
   "language": "python",
   "name": "python3"
  },
  "language_info": {
   "codemirror_mode": {
    "name": "ipython",
    "version": 3
   },
   "file_extension": ".py",
   "mimetype": "text/x-python",
   "name": "python",
   "nbconvert_exporter": "python",
   "pygments_lexer": "ipython3",
   "version": "3.9.13"
  },
  "vscode": {
   "interpreter": {
    "hash": "ddd90b102f996f8aa4d9bab0ef071a1b5519621124b2bab960dbe4b849610fde"
   }
  }
 },
 "nbformat": 4,
 "nbformat_minor": 2
}
